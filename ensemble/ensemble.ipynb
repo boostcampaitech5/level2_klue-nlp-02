{
  "cells": [
    {
      "cell_type": "code",
      "execution_count": 60,
      "metadata": {},
      "outputs": [],
      "source": [
        "import sys\n",
        "sys.path.append('/opt/ml')"
      ]
    },
    {
      "cell_type": "code",
      "execution_count": 70,
      "metadata": {
        "id": "tAuUil0AXQ-I"
      },
      "outputs": [],
      "source": [
        "import pandas as pd\n",
        "import numpy as np\n",
        "import os\n",
        "import pickle\n",
        "from utils import data_controller"
      ]
    },
    {
      "cell_type": "code",
      "execution_count": 62,
      "metadata": {
        "id": "cGbbgHhIXQ-M",
        "outputId": "7ad2ec79-7ac8-4e88-ecbd-2578c8d7db59"
      },
      "outputs": [
        {
          "name": "stdout",
          "output_type": "stream",
          "text": [
            "['05-16_14:27:21_CJW_23_EP5_bs64_warmup0.1_LR3e-5_tml160_val15_RD_APNS_QP_FocLoss_LSTMNT____86.7762_.csv', '05-16_15:04:09_CJW_23_EP5_bs64_warmup0.1_LR3e-5_tml160_val15_RD_NC_APNS_QP_LabSmth_LSTMNT____87.2437_.csv', '05-16_23:27:41_CJW_BERT_23_EP1_bs64_LR3e-5_tml160_noVal_RD_APNS_QP_LabSmth_LSTMNT____84.2351_.csv']\n"
          ]
        }
      ],
      "source": [
        "ensemble_csvs_dir = \"./ingredients\"\n",
        "print(os.listdir(ensemble_csvs_dir))"
      ]
    },
    {
      "cell_type": "code",
      "execution_count": 63,
      "metadata": {
        "id": "_1Ym8upGXQ-N"
      },
      "outputs": [],
      "source": [
        "test_dataset = pd.read_csv(\"../dataset/new_test.csv\")\n",
        "\n",
        "test_id = list(test_dataset['id']) "
      ]
    },
    {
      "cell_type": "code",
      "execution_count": 64,
      "metadata": {
        "id": "tdvtpc_oXQ-N",
        "outputId": "40e03d09-4240-4d30-fd90-84eefea7eb90"
      },
      "outputs": [
        {
          "name": "stdout",
          "output_type": "stream",
          "text": [
            "(3, 7765, 30)\n",
            "(3,)\n"
          ]
        }
      ],
      "source": [
        "prob_list = []\n",
        "weights = []\n",
        "\n",
        "for csv in os.listdir(ensemble_csvs_dir):\n",
        "    if csv[0] != '.':\n",
        "        # Extract the score from the filename and append it to the weights\n",
        "        score = float(csv.split('_')[-2])\n",
        "        weights.append(score)\n",
        "\n",
        "        # Load the probabilities and append them to the list\n",
        "        prob = [eval(x) for x in pd.read_csv(os.path.join(ensemble_csvs_dir,csv))[\"probs\"]]\n",
        "        prob_list.append(prob)\n",
        "\n",
        "# Convert the lists to NumPy arrays\n",
        "new_probs = np.array(prob_list)\n",
        "weights = np.array(weights)\n",
        "\n",
        "print(new_probs.shape)\n",
        "print(weights.shape)"
      ]
    },
    {
      "cell_type": "code",
      "execution_count": 65,
      "metadata": {
        "id": "4G6IRh9dXQ-O",
        "outputId": "2292076a-e781-4a94-c1ff-65dcb0a0c5f8"
      },
      "outputs": [
        {
          "name": "stdout",
          "output_type": "stream",
          "text": [
            "(7765, 30)\n",
            "[[0.14042456 0.00510988 0.03538339 ... 0.00192084 0.00328135 0.00237828]\n",
            " [0.10781213 0.00479456 0.00287686 ... 0.00287671 0.00260704 0.00207379]\n",
            " [0.92870803 0.00194232 0.0021319  ... 0.00226959 0.00202293 0.00210774]\n",
            " ...\n",
            " [0.02328038 0.91375961 0.00227886 ... 0.00212933 0.00380704 0.00212323]\n",
            " [0.84183117 0.0014515  0.00152172 ... 0.00185327 0.00239037 0.00248169]\n",
            " [0.93804209 0.00176347 0.0015144  ... 0.00176434 0.00168871 0.00200606]]\n",
            "Total to: [1.00000006 0.99999999 1.00000005 0.99999996 1.00000009 1.00000001\n",
            " 1.00000002 1.00000001 1.         0.99999997 0.99999998 0.99999996\n",
            " 0.99999996 1.00000007 0.99999999 0.99999999 0.99999995 0.99999995\n",
            " 0.99999992 0.99999998 1.00000002 1.         1.00000003 1.\n",
            " 1.00000004 1.         0.99999996 1.00000005 0.99999999 1.00000004]\n"
          ]
        }
      ],
      "source": [
        "# Calculate the weighted average of the probabilities\n",
        "weighted_avg_probs = np.sum(new_probs * weights[:, None, None], axis=0) / np.sum(weights)\n",
        "\n",
        "print(weighted_avg_probs.shape)\n",
        "print(weighted_avg_probs)\n",
        "print(\"Total to:\", np.sum(weighted_avg_probs[0:30], axis=1))"
      ]
    },
    {
      "cell_type": "code",
      "execution_count": 66,
      "metadata": {
        "id": "q4o4oVnDXQ-O",
        "outputId": "f33b6b00-c96d-4c46-efed-a7d32cbed67b"
      },
      "outputs": [
        {
          "name": "stdout",
          "output_type": "stream",
          "text": [
            "(7765,)\n"
          ]
        }
      ],
      "source": [
        "pred_answer = np.argmax(weighted_avg_probs, axis=-1)\n",
        "print(pred_answer.shape)"
      ]
    },
    {
      "cell_type": "code",
      "execution_count": 76,
      "metadata": {
        "id": "uTMlAGxVXQ-P"
      },
      "outputs": [
        {
          "name": "stdout",
          "output_type": "stream",
          "text": [
            "7765\n"
          ]
        }
      ],
      "source": [
        "num2label = data_controller.load_num2label()\n",
        "label_answer = [num2label[i] for i in pred_answer]\n",
        "print(len(pred_answer))"
      ]
    },
    {
      "cell_type": "code",
      "execution_count": 77,
      "metadata": {
        "id": "2NJBzNpHXQ-P",
        "outputId": "18e6c32d-8e61-4080-a847-a447a1f29fdf"
      },
      "outputs": [],
      "source": [
        "output = pd.DataFrame({'id':test_id,'pred_label':label_answer,'probs':weighted_avg_probs.tolist(),})\n",
        "output.to_csv('./food/ensembled_output.csv', index=False) "
      ]
    }
  ],
  "metadata": {
    "colab": {
      "provenance": []
    },
    "interpreter": {
      "hash": "d4d1e4263499bec80672ea0156c357c1ee493ec2b1c70f0acce89fc37c4a6abe"
    },
    "kernelspec": {
      "display_name": "Python 3.8.5 ('base')",
      "language": "python",
      "name": "python3"
    },
    "language_info": {
      "codemirror_mode": {
        "name": "ipython",
        "version": 3
      },
      "file_extension": ".py",
      "mimetype": "text/x-python",
      "name": "python",
      "nbconvert_exporter": "python",
      "pygments_lexer": "ipython3",
      "version": "3.8.5"
    },
    "orig_nbformat": 4
  },
  "nbformat": 4,
  "nbformat_minor": 0
}
