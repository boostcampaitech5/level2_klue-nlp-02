{
 "cells": [
  {
   "attachments": {},
   "cell_type": "markdown",
   "metadata": {},
   "source": [
    "# 데이터 시각화를 통해 인사이트 추출하기\n",
    "@creator: 김기범"
   ]
  },
  {
   "attachments": {},
   "cell_type": "markdown",
   "metadata": {},
   "source": [
    "# import"
   ]
  },
  {
   "cell_type": "code",
   "execution_count": 2,
   "metadata": {},
   "outputs": [],
   "source": [
    "import pandas as pd\n",
    "import matplotlib.pyplot as plt\n",
    "import seaborn as sns"
   ]
  },
  {
   "cell_type": "code",
   "execution_count": 3,
   "metadata": {},
   "outputs": [
    {
     "data": {
      "text/plain": [
       "(32470, 12)"
      ]
     },
     "execution_count": 3,
     "metadata": {},
     "output_type": "execute_result"
    }
   ],
   "source": [
    "train_df = pd.read_csv('../dataset/new_train.csv')\n",
    "\n",
    "train_df.shape"
   ]
  },
  {
   "cell_type": "code",
   "execution_count": 4,
   "metadata": {},
   "outputs": [
    {
     "name": "stdout",
     "output_type": "stream",
     "text": [
      "<class 'pandas.core.frame.DataFrame'>\n",
      "RangeIndex: 32470 entries, 0 to 32469\n",
      "Data columns (total 12 columns):\n",
      " #   Column             Non-Null Count  Dtype \n",
      "---  ------             --------------  ----- \n",
      " 0   id                 32470 non-null  int64 \n",
      " 1   sentence           32470 non-null  object\n",
      " 2   subject_entity     32470 non-null  object\n",
      " 3   object_entity      32470 non-null  object\n",
      " 4   label              32470 non-null  object\n",
      " 5   source             32470 non-null  object\n",
      " 6   subject_start_idx  32470 non-null  int64 \n",
      " 7   subject_end_idx    32470 non-null  int64 \n",
      " 8   subject_type       32470 non-null  object\n",
      " 9   object_start_idx   32470 non-null  int64 \n",
      " 10  object_end_idx     32470 non-null  int64 \n",
      " 11  object_type        32470 non-null  object\n",
      "dtypes: int64(5), object(7)\n",
      "memory usage: 3.0+ MB\n"
     ]
    }
   ],
   "source": [
    "train_df.info()"
   ]
  },
  {
   "cell_type": "code",
   "execution_count": 5,
   "metadata": {},
   "outputs": [
    {
     "data": {
      "text/html": [
       "<div>\n",
       "<style scoped>\n",
       "    .dataframe tbody tr th:only-of-type {\n",
       "        vertical-align: middle;\n",
       "    }\n",
       "\n",
       "    .dataframe tbody tr th {\n",
       "        vertical-align: top;\n",
       "    }\n",
       "\n",
       "    .dataframe thead th {\n",
       "        text-align: right;\n",
       "    }\n",
       "</style>\n",
       "<table border=\"1\" class=\"dataframe\">\n",
       "  <thead>\n",
       "    <tr style=\"text-align: right;\">\n",
       "      <th></th>\n",
       "      <th>id</th>\n",
       "      <th>sentence</th>\n",
       "      <th>subject_entity</th>\n",
       "      <th>object_entity</th>\n",
       "      <th>label</th>\n",
       "      <th>source</th>\n",
       "      <th>subject_start_idx</th>\n",
       "      <th>subject_end_idx</th>\n",
       "      <th>subject_type</th>\n",
       "      <th>object_start_idx</th>\n",
       "      <th>object_end_idx</th>\n",
       "      <th>object_type</th>\n",
       "    </tr>\n",
       "  </thead>\n",
       "  <tbody>\n",
       "    <tr>\n",
       "      <th>0</th>\n",
       "      <td>0</td>\n",
       "      <td>〈Something〉는 조지 해리슨이 쓰고 비틀즈가 1969년 앨범 《Abbey R...</td>\n",
       "      <td>비틀즈</td>\n",
       "      <td>조지 해리슨</td>\n",
       "      <td>no_relation</td>\n",
       "      <td>wikipedia</td>\n",
       "      <td>24</td>\n",
       "      <td>26</td>\n",
       "      <td>ORG</td>\n",
       "      <td>13</td>\n",
       "      <td>18</td>\n",
       "      <td>PER</td>\n",
       "    </tr>\n",
       "    <tr>\n",
       "      <th>1</th>\n",
       "      <td>1</td>\n",
       "      <td>호남이 기반인 바른미래당·대안신당·민주평화당이 우여곡절 끝에 합당해 민생당(가칭)으...</td>\n",
       "      <td>민주평화당</td>\n",
       "      <td>대안신당</td>\n",
       "      <td>no_relation</td>\n",
       "      <td>wikitree</td>\n",
       "      <td>19</td>\n",
       "      <td>23</td>\n",
       "      <td>ORG</td>\n",
       "      <td>14</td>\n",
       "      <td>17</td>\n",
       "      <td>ORG</td>\n",
       "    </tr>\n",
       "    <tr>\n",
       "      <th>2</th>\n",
       "      <td>2</td>\n",
       "      <td>K리그2에서 성적 1위를 달리고 있는 광주FC는 지난 26일 한국프로축구연맹으로부터...</td>\n",
       "      <td>광주FC</td>\n",
       "      <td>한국프로축구연맹</td>\n",
       "      <td>org:member_of</td>\n",
       "      <td>wikitree</td>\n",
       "      <td>21</td>\n",
       "      <td>24</td>\n",
       "      <td>ORG</td>\n",
       "      <td>34</td>\n",
       "      <td>41</td>\n",
       "      <td>ORG</td>\n",
       "    </tr>\n",
       "    <tr>\n",
       "      <th>3</th>\n",
       "      <td>3</td>\n",
       "      <td>균일가 생활용품점 (주)아성다이소(대표 박정부)는 코로나19 바이러스로 어려움을 겪...</td>\n",
       "      <td>아성다이소</td>\n",
       "      <td>박정부</td>\n",
       "      <td>org:top_members/employees</td>\n",
       "      <td>wikitree</td>\n",
       "      <td>13</td>\n",
       "      <td>17</td>\n",
       "      <td>ORG</td>\n",
       "      <td>22</td>\n",
       "      <td>24</td>\n",
       "      <td>PER</td>\n",
       "    </tr>\n",
       "    <tr>\n",
       "      <th>4</th>\n",
       "      <td>4</td>\n",
       "      <td>1967년 프로 야구 드래프트 1순위로 요미우리 자이언츠에게 입단하면서 등번호는 8...</td>\n",
       "      <td>요미우리 자이언츠</td>\n",
       "      <td>1967</td>\n",
       "      <td>no_relation</td>\n",
       "      <td>wikipedia</td>\n",
       "      <td>22</td>\n",
       "      <td>30</td>\n",
       "      <td>ORG</td>\n",
       "      <td>0</td>\n",
       "      <td>3</td>\n",
       "      <td>DAT</td>\n",
       "    </tr>\n",
       "  </tbody>\n",
       "</table>\n",
       "</div>"
      ],
      "text/plain": [
       "   id                                           sentence subject_entity  \\\n",
       "0   0  〈Something〉는 조지 해리슨이 쓰고 비틀즈가 1969년 앨범 《Abbey R...            비틀즈   \n",
       "1   1  호남이 기반인 바른미래당·대안신당·민주평화당이 우여곡절 끝에 합당해 민생당(가칭)으...          민주평화당   \n",
       "2   2  K리그2에서 성적 1위를 달리고 있는 광주FC는 지난 26일 한국프로축구연맹으로부터...           광주FC   \n",
       "3   3  균일가 생활용품점 (주)아성다이소(대표 박정부)는 코로나19 바이러스로 어려움을 겪...          아성다이소   \n",
       "4   4  1967년 프로 야구 드래프트 1순위로 요미우리 자이언츠에게 입단하면서 등번호는 8...      요미우리 자이언츠   \n",
       "\n",
       "  object_entity                      label     source  subject_start_idx  \\\n",
       "0        조지 해리슨                no_relation  wikipedia                 24   \n",
       "1          대안신당                no_relation   wikitree                 19   \n",
       "2      한국프로축구연맹              org:member_of   wikitree                 21   \n",
       "3           박정부  org:top_members/employees   wikitree                 13   \n",
       "4          1967                no_relation  wikipedia                 22   \n",
       "\n",
       "   subject_end_idx subject_type  object_start_idx  object_end_idx object_type  \n",
       "0               26          ORG                13              18         PER  \n",
       "1               23          ORG                14              17         ORG  \n",
       "2               24          ORG                34              41         ORG  \n",
       "3               17          ORG                22              24         PER  \n",
       "4               30          ORG                 0               3         DAT  "
      ]
     },
     "execution_count": 5,
     "metadata": {},
     "output_type": "execute_result"
    }
   ],
   "source": [
    "train_df.head()"
   ]
  },
  {
   "attachments": {},
   "cell_type": "markdown",
   "metadata": {},
   "source": [
    "# 1. 소스별 데이서 수 보기"
   ]
  },
  {
   "cell_type": "code",
   "execution_count": 6,
   "metadata": {},
   "outputs": [
    {
     "data": {
      "text/plain": [
       "array(['wikipedia', 'wikitree', 'policy_briefing'], dtype=object)"
      ]
     },
     "execution_count": 6,
     "metadata": {},
     "output_type": "execute_result"
    }
   ],
   "source": [
    "train_df['source'].unique()"
   ]
  },
  {
   "cell_type": "code",
   "execution_count": 7,
   "metadata": {},
   "outputs": [
    {
     "data": {
      "text/plain": [
       "wikipedia          21620\n",
       "wikitree           10672\n",
       "policy_briefing      178\n",
       "Name: source, dtype: int64"
      ]
     },
     "execution_count": 7,
     "metadata": {},
     "output_type": "execute_result"
    }
   ],
   "source": [
    "train_df['source'].value_counts()"
   ]
  },
  {
   "cell_type": "code",
   "execution_count": 8,
   "metadata": {},
   "outputs": [
    {
     "data": {
      "text/plain": [
       "<Axes: xlabel='source', ylabel='Probability'>"
      ]
     },
     "execution_count": 8,
     "metadata": {},
     "output_type": "execute_result"
    },
    {
     "data": {
      "image/png": "[encoded data removed]",
      "text/plain": [
       "<Figure size 432x288 with 1 Axes>"
      ]
     },
     "metadata": {
      "needs_background": "light"
     },
     "output_type": "display_data"
    }
   ],
   "source": [
    "sns.histplot(data=train_df, x='source', stat='probability')"
   ]
  },
  {
   "cell_type": "code",
   "execution_count": 9,
   "metadata": {},
   "outputs": [
    {
     "data": {
      "text/plain": [
       "<Axes: xlabel='label', ylabel='count'>"
      ]
     },
     "execution_count": 9,
     "metadata": {},
     "output_type": "execute_result"
    },
    {
     "data": {
      "image/png": "[encoded data removed]",
      "text/plain": [
       "<Figure size 1080x720 with 1 Axes>"
      ]
     },
     "metadata": {
      "needs_background": "light"
     },
     "output_type": "display_data"
    }
   ],
   "source": [
    "plt.figure(figsize=(15, 10))\n",
    "sns.countplot(data=train_df, x='label', hue='source', )"
   ]
  },
  {
   "attachments": {},
   "cell_type": "markdown",
   "metadata": {},
   "source": [
    "# 2. 토크나이징 전 문장 길이 보기"
   ]
  },
  {
   "attachments": {},
   "cell_type": "markdown",
   "metadata": {},
   "source": [
    "## 2.1 sentence 길이 보기"
   ]
  },
  {
   "cell_type": "code",
   "execution_count": 10,
   "metadata": {},
   "outputs": [
    {
     "data": {
      "text/plain": [
       "0         59\n",
       "1         54\n",
       "2         99\n",
       "3         78\n",
       "4         56\n",
       "        ... \n",
       "32465    213\n",
       "32466     67\n",
       "32467    115\n",
       "32468     65\n",
       "32469    106\n",
       "Name: sentence, Length: 32470, dtype: int64"
      ]
     },
     "execution_count": 10,
     "metadata": {},
     "output_type": "execute_result"
    }
   ],
   "source": [
    "train_df['sentence'].str.len()"
   ]
  },
  {
   "cell_type": "code",
   "execution_count": 11,
   "metadata": {},
   "outputs": [
    {
     "data": {
      "text/plain": [
       "(array([6.2240e+03, 1.4638e+04, 7.4180e+03, 2.6710e+03, 9.0700e+02,\n",
       "        3.8200e+02, 1.2100e+02, 7.0000e+01, 2.9000e+01, 1.0000e+01]),\n",
       " array([ 14. ,  58.1, 102.2, 146.3, 190.4, 234.5, 278.6, 322.7, 366.8,\n",
       "        410.9, 455. ]),\n",
       " <BarContainer object of 10 artists>)"
      ]
     },
     "execution_count": 11,
     "metadata": {},
     "output_type": "execute_result"
    },
    {
     "data": {
      "image/png": "[encoded data removed]",
      "text/plain": [
       "<Figure size 432x288 with 1 Axes>"
      ]
     },
     "metadata": {
      "needs_background": "light"
     },
     "output_type": "display_data"
    }
   ],
   "source": [
    "plt.hist(train_df['sentence'].str.len())"
   ]
  },
  {
   "attachments": {},
   "cell_type": "markdown",
   "metadata": {},
   "source": [
    "## 2.2 entity 길이 보기"
   ]
  },
  {
   "cell_type": "code",
   "execution_count": 12,
   "metadata": {},
   "outputs": [
    {
     "data": {
      "text/plain": [
       "(array([2.4235e+04, 7.2230e+03, 8.5900e+02, 1.2200e+02, 2.0000e+01,\n",
       "        5.0000e+00, 2.0000e+00, 1.0000e+00, 1.0000e+00, 2.0000e+00]),\n",
       " array([ 2. ,  6.2, 10.4, 14.6, 18.8, 23. , 27.2, 31.4, 35.6, 39.8, 44. ]),\n",
       " <BarContainer object of 10 artists>)"
      ]
     },
     "execution_count": 12,
     "metadata": {},
     "output_type": "execute_result"
    },
    {
     "data": {
      "image/png": "[encoded data removed]",
      "text/plain": [
       "<Figure size 432x288 with 1 Axes>"
      ]
     },
     "metadata": {
      "needs_background": "light"
     },
     "output_type": "display_data"
    }
   ],
   "source": [
    "plt.hist(train_df['subject_entity'].str.len())"
   ]
  },
  {
   "cell_type": "code",
   "execution_count": 13,
   "metadata": {},
   "outputs": [
    {
     "data": {
      "text/plain": [
       "(array([2.5449e+04, 5.0220e+03, 1.7980e+03, 1.0200e+02, 5.1000e+01,\n",
       "        2.9000e+01, 9.0000e+00, 5.0000e+00, 3.0000e+00, 2.0000e+00]),\n",
       " array([ 2. ,  6.7, 11.4, 16.1, 20.8, 25.5, 30.2, 34.9, 39.6, 44.3, 49. ]),\n",
       " <BarContainer object of 10 artists>)"
      ]
     },
     "execution_count": 13,
     "metadata": {},
     "output_type": "execute_result"
    },
    {
     "data": {
      "image/png": "[encoded data removed]",
      "text/plain": [
       "<Figure size 432x288 with 1 Axes>"
      ]
     },
     "metadata": {
      "needs_background": "light"
     },
     "output_type": "display_data"
    }
   ],
   "source": [
    "plt.hist(train_df['object_entity'].str.len())"
   ]
  },
  {
   "attachments": {},
   "cell_type": "markdown",
   "metadata": {},
   "source": [
    "# 3. 토크나이징 후 문장 길이 보기"
   ]
  },
  {
   "cell_type": "code",
   "execution_count": 14,
   "metadata": {},
   "outputs": [
    {
     "name": "stderr",
     "output_type": "stream",
     "text": [
      "/opt/conda/lib/python3.8/site-packages/tqdm/auto.py:21: TqdmWarning: IProgress not found. Please update jupyter and ipywidgets. See https://ipywidgets.readthedocs.io/en/stable/user_install.html\n",
      "  from .autonotebook import tqdm as notebook_tqdm\n"
     ]
    }
   ],
   "source": [
    "import transformers"
   ]
  },
  {
   "cell_type": "code",
   "execution_count": 15,
   "metadata": {},
   "outputs": [],
   "source": [
    "tokenizer = transformers.AutoTokenizer.from_pretrained('klue/bert-base')"
   ]
  },
  {
   "cell_type": "code",
   "execution_count": 16,
   "metadata": {},
   "outputs": [
    {
     "data": {
      "text/plain": [
       "{'input_ids': tensor([[    2,  8373, 14113,  ...,     0,     0,     0],\n",
       "        [    2,  5605,  2250,  ...,     0,     0,     0],\n",
       "        [    2,  3629, 17287,  ...,     0,     0,     0],\n",
       "        ...,\n",
       "        [    2, 31102,  2313,  ...,     0,     0,     0],\n",
       "        [    2,  4097,  2827,  ...,     0,     0,     0],\n",
       "        [    2,   615,  2419,  ...,     0,     0,     0]]), 'token_type_ids': tensor([[0, 0, 0,  ..., 0, 0, 0],\n",
       "        [0, 0, 0,  ..., 0, 0, 0],\n",
       "        [0, 0, 0,  ..., 0, 0, 0],\n",
       "        ...,\n",
       "        [0, 0, 0,  ..., 0, 0, 0],\n",
       "        [0, 0, 0,  ..., 0, 0, 0],\n",
       "        [0, 0, 0,  ..., 0, 0, 0]]), 'attention_mask': tensor([[1, 1, 1,  ..., 0, 0, 0],\n",
       "        [1, 1, 1,  ..., 0, 0, 0],\n",
       "        [1, 1, 1,  ..., 0, 0, 0],\n",
       "        ...,\n",
       "        [1, 1, 1,  ..., 0, 0, 0],\n",
       "        [1, 1, 1,  ..., 0, 0, 0],\n",
       "        [1, 1, 1,  ..., 0, 0, 0]])}"
      ]
     },
     "execution_count": 16,
     "metadata": {},
     "output_type": "execute_result"
    }
   ],
   "source": [
    "concat_entity = []\n",
    "for sub_ent, obj_ent in zip(train_df['subject_entity'], train_df['object_entity']):\n",
    "    concat_entity.append(obj_ent + \" [SEP] \" + sub_ent)\n",
    "    \n",
    "inputs = tokenizer(\n",
    "            concat_entity,\n",
    "            list(train_df['sentence']),\n",
    "            return_tensors='pt',\n",
    "            padding=True,\n",
    "            truncation=True,\n",
    "            max_length=400,\n",
    "            add_special_tokens=True,\n",
    ")\n",
    "\n",
    "inputs"
   ]
  },
  {
   "cell_type": "code",
   "execution_count": 17,
   "metadata": {},
   "outputs": [
    {
     "data": {
      "text/plain": [
       "3"
      ]
     },
     "execution_count": 17,
     "metadata": {},
     "output_type": "execute_result"
    }
   ],
   "source": [
    "len(inputs)"
   ]
  },
  {
   "cell_type": "code",
   "execution_count": 18,
   "metadata": {},
   "outputs": [
    {
     "data": {
      "text/plain": [
       "torch.Size([32470, 237])"
      ]
     },
     "execution_count": 18,
     "metadata": {},
     "output_type": "execute_result"
    }
   ],
   "source": [
    "inputs['input_ids'].shape"
   ]
  },
  {
   "cell_type": "code",
   "execution_count": 19,
   "metadata": {},
   "outputs": [
    {
     "data": {
      "text/plain": [
       "[2, 0, 3]"
      ]
     },
     "execution_count": 19,
     "metadata": {},
     "output_type": "execute_result"
    }
   ],
   "source": [
    "tokenizer.encode('[PAD]')"
   ]
  },
  {
   "cell_type": "code",
   "execution_count": 20,
   "metadata": {},
   "outputs": [
    {
     "name": "stdout",
     "output_type": "stream",
     "text": [
      "13877\n"
     ]
    }
   ],
   "source": [
    "token_count = []\n",
    "\n",
    "for idx, row in enumerate(inputs['input_ids']):\n",
    "    try:\n",
    "        token_count.append(row.tolist().index(0))\n",
    "    except:\n",
    "        print(idx)\n",
    "        "
   ]
  },
  {
   "cell_type": "code",
   "execution_count": 21,
   "metadata": {},
   "outputs": [
    {
     "data": {
      "text/plain": [
       "231"
      ]
     },
     "execution_count": 21,
     "metadata": {},
     "output_type": "execute_result"
    }
   ],
   "source": [
    "len(tokenizer.encode(train_df['sentence'][13877]))"
   ]
  },
  {
   "cell_type": "code",
   "execution_count": 22,
   "metadata": {},
   "outputs": [
    {
     "data": {
      "text/plain": [
       "(array([ 3950., 14279.,  8773.,  3388.,  1262.,   497.,   168.,    96.,\n",
       "           34.,    22.]),\n",
       " array([ 14. ,  36.1,  58.2,  80.3, 102.4, 124.5, 146.6, 168.7, 190.8,\n",
       "        212.9, 235. ]),\n",
       " <BarContainer object of 10 artists>)"
      ]
     },
     "execution_count": 22,
     "metadata": {},
     "output_type": "execute_result"
    },
    {
     "data": {
      "image/png": "[encoded data removed]",
      "text/plain": [
       "<Figure size 432x288 with 1 Axes>"
      ]
     },
     "metadata": {
      "needs_background": "light"
     },
     "output_type": "display_data"
    }
   ],
   "source": [
    "plt.hist(token_count)"
   ]
  },
  {
   "attachments": {},
   "cell_type": "markdown",
   "metadata": {},
   "source": [
    "## 3.1 max_len을 200으로 해도 [PAD]이 없는 13877 번째 데이터 보기 (예외처리)"
   ]
  },
  {
   "cell_type": "code",
   "execution_count": 23,
   "metadata": {},
   "outputs": [
    {
     "data": {
      "text/plain": [
       "id                                                               13877\n",
       "sentence             1942년 경성치과전문학교 입학을 하였고 1943년 2월에서 1945년 2월까지 2...\n",
       "subject_entity                                                   서울대학교\n",
       "object_entity                                                    1946년\n",
       "label                                                      no_relation\n",
       "source                                                       wikipedia\n",
       "subject_start_idx                                                  283\n",
       "subject_end_idx                                                    287\n",
       "subject_type                                                       ORG\n",
       "object_start_idx                                                    89\n",
       "object_end_idx                                                      93\n",
       "object_type                                                        DAT\n",
       "Name: 13877, dtype: object"
      ]
     },
     "execution_count": 23,
     "metadata": {},
     "output_type": "execute_result"
    }
   ],
   "source": [
    "train_df.iloc[13877]"
   ]
  },
  {
   "cell_type": "code",
   "execution_count": 24,
   "metadata": {},
   "outputs": [
    {
     "data": {
      "text/plain": [
       "429"
      ]
     },
     "execution_count": 24,
     "metadata": {},
     "output_type": "execute_result"
    }
   ],
   "source": [
    "len(train_df['sentence'][13877])"
   ]
  },
  {
   "attachments": {},
   "cell_type": "markdown",
   "metadata": {},
   "source": [
    "# 4. 레이블 분포 보기"
   ]
  },
  {
   "cell_type": "code",
   "execution_count": 25,
   "metadata": {},
   "outputs": [
    {
     "data": {
      "text/plain": [
       "no_relation                            29.362488\n",
       "org:top_members/employees              13.193717\n",
       "per:employee_of                        11.004004\n",
       "per:title                               6.476748\n",
       "org:member_of                           5.746843\n",
       "org:alternate_names                     4.065291\n",
       "per:origin                              3.800431\n",
       "org:place_of_headquarters               3.680320\n",
       "per:date_of_birth                       3.480136\n",
       "per:alternate_names                     3.082846\n",
       "per:spouse                              2.448414\n",
       "per:colleagues                          1.644595\n",
       "per:parents                             1.601478\n",
       "org:founded                             1.385895\n",
       "org:members                             1.293502\n",
       "per:date_of_death                       1.287342\n",
       "org:product                             1.170311\n",
       "per:children                            0.936249\n",
       "per:place_of_residence                  0.594395\n",
       "per:other_family                        0.585156\n",
       "per:place_of_birth                      0.511241\n",
       "org:founded_by                          0.477364\n",
       "per:product                             0.428087\n",
       "per:siblings                            0.418848\n",
       "org:political/religious_affiliation     0.301817\n",
       "per:religion                            0.295658\n",
       "per:schools_attended                    0.252541\n",
       "org:dissolved                           0.203265\n",
       "org:number_of_employees/members         0.147829\n",
       "per:place_of_death                      0.123191\n",
       "Name: label, dtype: float64"
      ]
     },
     "execution_count": 25,
     "metadata": {},
     "output_type": "execute_result"
    }
   ],
   "source": [
    "train_df['label'].value_counts(normalize=True) * 100"
   ]
  },
  {
   "cell_type": "code",
   "execution_count": 26,
   "metadata": {},
   "outputs": [
    {
     "data": {
      "image/png": "[encoded data removed]",
      "text/plain": [
       "<Figure size 2160x504 with 1 Axes>"
      ]
     },
     "metadata": {
      "needs_background": "light"
     },
     "output_type": "display_data"
    }
   ],
   "source": [
    "plt.figure(figsize=(30,7))\n",
    "sns.countplot(x=train_df['label'])\n",
    "plt.xticks(rotation=45)\n",
    "plt.show()"
   ]
  },
  {
   "attachments": {},
   "cell_type": "markdown",
   "metadata": {},
   "source": [
    "# 5. 중복 데이터 확인"
   ]
  },
  {
   "cell_type": "code",
   "execution_count": 29,
   "metadata": {},
   "outputs": [
    {
     "data": {
      "text/html": [
       "<div>\n",
       "<style scoped>\n",
       "    .dataframe tbody tr th:only-of-type {\n",
       "        vertical-align: middle;\n",
       "    }\n",
       "\n",
       "    .dataframe tbody tr th {\n",
       "        vertical-align: top;\n",
       "    }\n",
       "\n",
       "    .dataframe thead th {\n",
       "        text-align: right;\n",
       "    }\n",
       "</style>\n",
       "<table border=\"1\" class=\"dataframe\">\n",
       "  <thead>\n",
       "    <tr style=\"text-align: right;\">\n",
       "      <th></th>\n",
       "      <th>id</th>\n",
       "      <th>sentence</th>\n",
       "      <th>subject_entity</th>\n",
       "      <th>object_entity</th>\n",
       "      <th>label</th>\n",
       "      <th>source</th>\n",
       "      <th>subject_start_idx</th>\n",
       "      <th>subject_end_idx</th>\n",
       "      <th>subject_type</th>\n",
       "      <th>object_start_idx</th>\n",
       "      <th>object_end_idx</th>\n",
       "      <th>object_type</th>\n",
       "    </tr>\n",
       "  </thead>\n",
       "  <tbody>\n",
       "    <tr>\n",
       "      <th>22090</th>\n",
       "      <td>22090</td>\n",
       "      <td>1959-60 시즌 이후의 알파 에트니키 / 수페르리가 엘라다, 그리스 컵, 그리고...</td>\n",
       "      <td>수페르리가 엘라다</td>\n",
       "      <td>그리스</td>\n",
       "      <td>no_relation</td>\n",
       "      <td>wikipedia</td>\n",
       "      <td>25</td>\n",
       "      <td>33</td>\n",
       "      <td>ORG</td>\n",
       "      <td>36</td>\n",
       "      <td>38</td>\n",
       "      <td>POH</td>\n",
       "    </tr>\n",
       "    <tr>\n",
       "      <th>9618</th>\n",
       "      <td>9618</td>\n",
       "      <td>1959-60 시즌 이후의 알파 에트니키 / 수페르리가 엘라다, 그리스 컵, 그리고...</td>\n",
       "      <td>수페르리가 엘라다</td>\n",
       "      <td>그리스</td>\n",
       "      <td>no_relation</td>\n",
       "      <td>wikipedia</td>\n",
       "      <td>25</td>\n",
       "      <td>33</td>\n",
       "      <td>ORG</td>\n",
       "      <td>36</td>\n",
       "      <td>38</td>\n",
       "      <td>POH</td>\n",
       "    </tr>\n",
       "    <tr>\n",
       "      <th>25368</th>\n",
       "      <td>25368</td>\n",
       "      <td>2001년 4월 민주국민당 김윤환 의원과 민주당 의원 사이의 정책 연합과 관련한 통...</td>\n",
       "      <td>민주국민당</td>\n",
       "      <td>민주당</td>\n",
       "      <td>no_relation</td>\n",
       "      <td>wikipedia</td>\n",
       "      <td>9</td>\n",
       "      <td>13</td>\n",
       "      <td>ORG</td>\n",
       "      <td>23</td>\n",
       "      <td>25</td>\n",
       "      <td>ORG</td>\n",
       "    </tr>\n",
       "    <tr>\n",
       "      <th>2500</th>\n",
       "      <td>2500</td>\n",
       "      <td>2001년 4월 민주국민당 김윤환 의원과 민주당 의원 사이의 정책 연합과 관련한 통...</td>\n",
       "      <td>민주국민당</td>\n",
       "      <td>민주당</td>\n",
       "      <td>no_relation</td>\n",
       "      <td>wikipedia</td>\n",
       "      <td>9</td>\n",
       "      <td>13</td>\n",
       "      <td>ORG</td>\n",
       "      <td>23</td>\n",
       "      <td>25</td>\n",
       "      <td>ORG</td>\n",
       "    </tr>\n",
       "    <tr>\n",
       "      <th>3547</th>\n",
       "      <td>3547</td>\n",
       "      <td>2010년 10월 15일 전라북도청을 방문한 맹형규 행정안전부 장관은 도내 지자체간...</td>\n",
       "      <td>전라북도청</td>\n",
       "      <td>행정안전부</td>\n",
       "      <td>no_relation</td>\n",
       "      <td>wikipedia</td>\n",
       "      <td>14</td>\n",
       "      <td>18</td>\n",
       "      <td>ORG</td>\n",
       "      <td>29</td>\n",
       "      <td>33</td>\n",
       "      <td>ORG</td>\n",
       "    </tr>\n",
       "    <tr>\n",
       "      <th>...</th>\n",
       "      <td>...</td>\n",
       "      <td>...</td>\n",
       "      <td>...</td>\n",
       "      <td>...</td>\n",
       "      <td>...</td>\n",
       "      <td>...</td>\n",
       "      <td>...</td>\n",
       "      <td>...</td>\n",
       "      <td>...</td>\n",
       "      <td>...</td>\n",
       "      <td>...</td>\n",
       "      <td>...</td>\n",
       "    </tr>\n",
       "    <tr>\n",
       "      <th>27325</th>\n",
       "      <td>27325</td>\n",
       "      <td>펀치넬로는 10cm의 권정열이 피처링으로 참여한 '미안해서 미안해'로 무대에 올랐다.</td>\n",
       "      <td>권정열</td>\n",
       "      <td>10cm</td>\n",
       "      <td>per:employee_of</td>\n",
       "      <td>wikitree</td>\n",
       "      <td>12</td>\n",
       "      <td>14</td>\n",
       "      <td>PER</td>\n",
       "      <td>6</td>\n",
       "      <td>9</td>\n",
       "      <td>NOH</td>\n",
       "    </tr>\n",
       "    <tr>\n",
       "      <th>14658</th>\n",
       "      <td>14658</td>\n",
       "      <td>함연지는 함영준 오뚜기 회장의 장녀다.</td>\n",
       "      <td>오뚜기</td>\n",
       "      <td>함영준</td>\n",
       "      <td>org:top_members/employees</td>\n",
       "      <td>wikitree</td>\n",
       "      <td>9</td>\n",
       "      <td>11</td>\n",
       "      <td>ORG</td>\n",
       "      <td>5</td>\n",
       "      <td>7</td>\n",
       "      <td>PER</td>\n",
       "    </tr>\n",
       "    <tr>\n",
       "      <th>6936</th>\n",
       "      <td>6936</td>\n",
       "      <td>함연지는 함영준 오뚜기 회장의 장녀다.</td>\n",
       "      <td>오뚜기</td>\n",
       "      <td>함영준</td>\n",
       "      <td>org:top_members/employees</td>\n",
       "      <td>wikitree</td>\n",
       "      <td>9</td>\n",
       "      <td>11</td>\n",
       "      <td>ORG</td>\n",
       "      <td>5</td>\n",
       "      <td>7</td>\n",
       "      <td>PER</td>\n",
       "    </tr>\n",
       "    <tr>\n",
       "      <th>20898</th>\n",
       "      <td>20898</td>\n",
       "      <td>화려한 재기를 뒤로하고 고(故) 안재환에게 돈을 빌려줬다는 루머로 마음고생을 하던 ...</td>\n",
       "      <td>최진실</td>\n",
       "      <td>2008년 10월 2일</td>\n",
       "      <td>per:date_of_death</td>\n",
       "      <td>wikitree</td>\n",
       "      <td>46</td>\n",
       "      <td>48</td>\n",
       "      <td>PER</td>\n",
       "      <td>51</td>\n",
       "      <td>62</td>\n",
       "      <td>DAT</td>\n",
       "    </tr>\n",
       "    <tr>\n",
       "      <th>4248</th>\n",
       "      <td>4248</td>\n",
       "      <td>화려한 재기를 뒤로하고 고(故) 안재환에게 돈을 빌려줬다는 루머로 마음고생을 하던 ...</td>\n",
       "      <td>최진실</td>\n",
       "      <td>2008년 10월 2일</td>\n",
       "      <td>per:date_of_death</td>\n",
       "      <td>wikitree</td>\n",
       "      <td>46</td>\n",
       "      <td>48</td>\n",
       "      <td>PER</td>\n",
       "      <td>51</td>\n",
       "      <td>62</td>\n",
       "      <td>DAT</td>\n",
       "    </tr>\n",
       "  </tbody>\n",
       "</table>\n",
       "<p>84 rows × 12 columns</p>\n",
       "</div>"
      ],
      "text/plain": [
       "          id                                           sentence  \\\n",
       "22090  22090  1959-60 시즌 이후의 알파 에트니키 / 수페르리가 엘라다, 그리스 컵, 그리고...   \n",
       "9618    9618  1959-60 시즌 이후의 알파 에트니키 / 수페르리가 엘라다, 그리스 컵, 그리고...   \n",
       "25368  25368  2001년 4월 민주국민당 김윤환 의원과 민주당 의원 사이의 정책 연합과 관련한 통...   \n",
       "2500    2500  2001년 4월 민주국민당 김윤환 의원과 민주당 의원 사이의 정책 연합과 관련한 통...   \n",
       "3547    3547  2010년 10월 15일 전라북도청을 방문한 맹형규 행정안전부 장관은 도내 지자체간...   \n",
       "...      ...                                                ...   \n",
       "27325  27325    펀치넬로는 10cm의 권정열이 피처링으로 참여한 '미안해서 미안해'로 무대에 올랐다.   \n",
       "14658  14658                              함연지는 함영준 오뚜기 회장의 장녀다.   \n",
       "6936    6936                              함연지는 함영준 오뚜기 회장의 장녀다.   \n",
       "20898  20898  화려한 재기를 뒤로하고 고(故) 안재환에게 돈을 빌려줬다는 루머로 마음고생을 하던 ...   \n",
       "4248    4248  화려한 재기를 뒤로하고 고(故) 안재환에게 돈을 빌려줬다는 루머로 마음고생을 하던 ...   \n",
       "\n",
       "      subject_entity object_entity                      label     source  \\\n",
       "22090      수페르리가 엘라다           그리스                no_relation  wikipedia   \n",
       "9618       수페르리가 엘라다           그리스                no_relation  wikipedia   \n",
       "25368          민주국민당           민주당                no_relation  wikipedia   \n",
       "2500           민주국민당           민주당                no_relation  wikipedia   \n",
       "3547           전라북도청         행정안전부                no_relation  wikipedia   \n",
       "...              ...           ...                        ...        ...   \n",
       "27325            권정열          10cm            per:employee_of   wikitree   \n",
       "14658            오뚜기           함영준  org:top_members/employees   wikitree   \n",
       "6936             오뚜기           함영준  org:top_members/employees   wikitree   \n",
       "20898            최진실  2008년 10월 2일          per:date_of_death   wikitree   \n",
       "4248             최진실  2008년 10월 2일          per:date_of_death   wikitree   \n",
       "\n",
       "       subject_start_idx  subject_end_idx subject_type  object_start_idx  \\\n",
       "22090                 25               33          ORG                36   \n",
       "9618                  25               33          ORG                36   \n",
       "25368                  9               13          ORG                23   \n",
       "2500                   9               13          ORG                23   \n",
       "3547                  14               18          ORG                29   \n",
       "...                  ...              ...          ...               ...   \n",
       "27325                 12               14          PER                 6   \n",
       "14658                  9               11          ORG                 5   \n",
       "6936                   9               11          ORG                 5   \n",
       "20898                 46               48          PER                51   \n",
       "4248                  46               48          PER                51   \n",
       "\n",
       "       object_end_idx object_type  \n",
       "22090              38         POH  \n",
       "9618               38         POH  \n",
       "25368              25         ORG  \n",
       "2500               25         ORG  \n",
       "3547               33         ORG  \n",
       "...               ...         ...  \n",
       "27325               9         NOH  \n",
       "14658               7         PER  \n",
       "6936                7         PER  \n",
       "20898              62         DAT  \n",
       "4248               62         DAT  \n",
       "\n",
       "[84 rows x 12 columns]"
      ]
     },
     "execution_count": 29,
     "metadata": {},
     "output_type": "execute_result"
    }
   ],
   "source": [
    "column = ['sentence', 'subject_entity', 'object_entity', 'label', 'subject_start_idx', 'object_start_idx', 'subject_end_idx', 'object_end_idx', 'source']\n",
    "train_df[train_df.duplicated(column, keep=False)].sort_values(by='sentence')"
   ]
  },
  {
   "cell_type": "code",
   "execution_count": null,
   "metadata": {},
   "outputs": [
    {
     "data": {
      "text/html": [
       "<div>\n",
       "<style scoped>\n",
       "    .dataframe tbody tr th:only-of-type {\n",
       "        vertical-align: middle;\n",
       "    }\n",
       "\n",
       "    .dataframe tbody tr th {\n",
       "        vertical-align: top;\n",
       "    }\n",
       "\n",
       "    .dataframe thead th {\n",
       "        text-align: right;\n",
       "    }\n",
       "</style>\n",
       "<table border=\"1\" class=\"dataframe\">\n",
       "  <thead>\n",
       "    <tr style=\"text-align: right;\">\n",
       "      <th></th>\n",
       "      <th>id</th>\n",
       "      <th>sentence</th>\n",
       "      <th>subject_entity</th>\n",
       "      <th>object_entity</th>\n",
       "      <th>label</th>\n",
       "      <th>source</th>\n",
       "      <th>subject_start_idx</th>\n",
       "      <th>subject_end_idx</th>\n",
       "      <th>subject_type</th>\n",
       "      <th>object_start_idx</th>\n",
       "      <th>object_end_idx</th>\n",
       "      <th>object_type</th>\n",
       "    </tr>\n",
       "  </thead>\n",
       "  <tbody>\n",
       "    <tr>\n",
       "      <th>22090</th>\n",
       "      <td>22090</td>\n",
       "      <td>1959-60 시즌 이후의 알파 에트니키 / 수페르리가 엘라다, 그리스 컵, 그리고...</td>\n",
       "      <td>수페르리가 엘라다</td>\n",
       "      <td>그리스</td>\n",
       "      <td>no_relation</td>\n",
       "      <td>wikipedia</td>\n",
       "      <td>25</td>\n",
       "      <td>33</td>\n",
       "      <td>ORG</td>\n",
       "      <td>36</td>\n",
       "      <td>38</td>\n",
       "      <td>POH</td>\n",
       "    </tr>\n",
       "    <tr>\n",
       "      <th>9618</th>\n",
       "      <td>9618</td>\n",
       "      <td>1959-60 시즌 이후의 알파 에트니키 / 수페르리가 엘라다, 그리스 컵, 그리고...</td>\n",
       "      <td>수페르리가 엘라다</td>\n",
       "      <td>그리스</td>\n",
       "      <td>no_relation</td>\n",
       "      <td>wikipedia</td>\n",
       "      <td>25</td>\n",
       "      <td>33</td>\n",
       "      <td>ORG</td>\n",
       "      <td>36</td>\n",
       "      <td>38</td>\n",
       "      <td>POH</td>\n",
       "    </tr>\n",
       "    <tr>\n",
       "      <th>25368</th>\n",
       "      <td>25368</td>\n",
       "      <td>2001년 4월 민주국민당 김윤환 의원과 민주당 의원 사이의 정책 연합과 관련한 통...</td>\n",
       "      <td>민주국민당</td>\n",
       "      <td>민주당</td>\n",
       "      <td>no_relation</td>\n",
       "      <td>wikipedia</td>\n",
       "      <td>9</td>\n",
       "      <td>13</td>\n",
       "      <td>ORG</td>\n",
       "      <td>23</td>\n",
       "      <td>25</td>\n",
       "      <td>ORG</td>\n",
       "    </tr>\n",
       "    <tr>\n",
       "      <th>2500</th>\n",
       "      <td>2500</td>\n",
       "      <td>2001년 4월 민주국민당 김윤환 의원과 민주당 의원 사이의 정책 연합과 관련한 통...</td>\n",
       "      <td>민주국민당</td>\n",
       "      <td>민주당</td>\n",
       "      <td>no_relation</td>\n",
       "      <td>wikipedia</td>\n",
       "      <td>9</td>\n",
       "      <td>13</td>\n",
       "      <td>ORG</td>\n",
       "      <td>23</td>\n",
       "      <td>25</td>\n",
       "      <td>ORG</td>\n",
       "    </tr>\n",
       "    <tr>\n",
       "      <th>3547</th>\n",
       "      <td>3547</td>\n",
       "      <td>2010년 10월 15일 전라북도청을 방문한 맹형규 행정안전부 장관은 도내 지자체간...</td>\n",
       "      <td>전라북도청</td>\n",
       "      <td>행정안전부</td>\n",
       "      <td>no_relation</td>\n",
       "      <td>wikipedia</td>\n",
       "      <td>14</td>\n",
       "      <td>18</td>\n",
       "      <td>ORG</td>\n",
       "      <td>29</td>\n",
       "      <td>33</td>\n",
       "      <td>ORG</td>\n",
       "    </tr>\n",
       "    <tr>\n",
       "      <th>255</th>\n",
       "      <td>255</td>\n",
       "      <td>2010년 10월 15일 전라북도청을 방문한 맹형규 행정안전부 장관은 도내 지자체간...</td>\n",
       "      <td>전라북도청</td>\n",
       "      <td>행정안전부</td>\n",
       "      <td>no_relation</td>\n",
       "      <td>wikipedia</td>\n",
       "      <td>14</td>\n",
       "      <td>18</td>\n",
       "      <td>ORG</td>\n",
       "      <td>29</td>\n",
       "      <td>33</td>\n",
       "      <td>ORG</td>\n",
       "    </tr>\n",
       "    <tr>\n",
       "      <th>31510</th>\n",
       "      <td>31510</td>\n",
       "      <td>4.15 총선 후보로 공천됐다가 최소된 미래통합당 김원성 최고위원이 유서를 남기고 ...</td>\n",
       "      <td>김원성</td>\n",
       "      <td>미래통합당</td>\n",
       "      <td>per:employee_of</td>\n",
       "      <td>wikitree</td>\n",
       "      <td>28</td>\n",
       "      <td>30</td>\n",
       "      <td>PER</td>\n",
       "      <td>22</td>\n",
       "      <td>26</td>\n",
       "      <td>ORG</td>\n",
       "    </tr>\n",
       "    <tr>\n",
       "      <th>13993</th>\n",
       "      <td>13993</td>\n",
       "      <td>4.15 총선 후보로 공천됐다가 최소된 미래통합당 김원성 최고위원이 유서를 남기고 ...</td>\n",
       "      <td>김원성</td>\n",
       "      <td>미래통합당</td>\n",
       "      <td>per:employee_of</td>\n",
       "      <td>wikitree</td>\n",
       "      <td>28</td>\n",
       "      <td>30</td>\n",
       "      <td>PER</td>\n",
       "      <td>22</td>\n",
       "      <td>26</td>\n",
       "      <td>ORG</td>\n",
       "    </tr>\n",
       "    <tr>\n",
       "      <th>27116</th>\n",
       "      <td>27116</td>\n",
       "      <td>‘문재인 영입 인사’로 발탁돼 제20대 총선에 광주 서구을에 출마했고, 더불어민주당...</td>\n",
       "      <td>더불어민주당</td>\n",
       "      <td>문재인</td>\n",
       "      <td>no_relation</td>\n",
       "      <td>wikitree</td>\n",
       "      <td>40</td>\n",
       "      <td>45</td>\n",
       "      <td>ORG</td>\n",
       "      <td>1</td>\n",
       "      <td>3</td>\n",
       "      <td>PER</td>\n",
       "    </tr>\n",
       "    <tr>\n",
       "      <th>16145</th>\n",
       "      <td>16145</td>\n",
       "      <td>‘문재인 영입 인사’로 발탁돼 제20대 총선에 광주 서구을에 출마했고, 더불어민주당...</td>\n",
       "      <td>더불어민주당</td>\n",
       "      <td>문재인</td>\n",
       "      <td>no_relation</td>\n",
       "      <td>wikitree</td>\n",
       "      <td>40</td>\n",
       "      <td>45</td>\n",
       "      <td>ORG</td>\n",
       "      <td>1</td>\n",
       "      <td>3</td>\n",
       "      <td>PER</td>\n",
       "    </tr>\n",
       "  </tbody>\n",
       "</table>\n",
       "</div>"
      ],
      "text/plain": [
       "          id                                           sentence  \\\n",
       "22090  22090  1959-60 시즌 이후의 알파 에트니키 / 수페르리가 엘라다, 그리스 컵, 그리고...   \n",
       "9618    9618  1959-60 시즌 이후의 알파 에트니키 / 수페르리가 엘라다, 그리스 컵, 그리고...   \n",
       "25368  25368  2001년 4월 민주국민당 김윤환 의원과 민주당 의원 사이의 정책 연합과 관련한 통...   \n",
       "2500    2500  2001년 4월 민주국민당 김윤환 의원과 민주당 의원 사이의 정책 연합과 관련한 통...   \n",
       "3547    3547  2010년 10월 15일 전라북도청을 방문한 맹형규 행정안전부 장관은 도내 지자체간...   \n",
       "255      255  2010년 10월 15일 전라북도청을 방문한 맹형규 행정안전부 장관은 도내 지자체간...   \n",
       "31510  31510  4.15 총선 후보로 공천됐다가 최소된 미래통합당 김원성 최고위원이 유서를 남기고 ...   \n",
       "13993  13993  4.15 총선 후보로 공천됐다가 최소된 미래통합당 김원성 최고위원이 유서를 남기고 ...   \n",
       "27116  27116  ‘문재인 영입 인사’로 발탁돼 제20대 총선에 광주 서구을에 출마했고, 더불어민주당...   \n",
       "16145  16145  ‘문재인 영입 인사’로 발탁돼 제20대 총선에 광주 서구을에 출마했고, 더불어민주당...   \n",
       "\n",
       "      subject_entity object_entity            label     source  \\\n",
       "22090      수페르리가 엘라다           그리스      no_relation  wikipedia   \n",
       "9618       수페르리가 엘라다           그리스      no_relation  wikipedia   \n",
       "25368          민주국민당           민주당      no_relation  wikipedia   \n",
       "2500           민주국민당           민주당      no_relation  wikipedia   \n",
       "3547           전라북도청         행정안전부      no_relation  wikipedia   \n",
       "255            전라북도청         행정안전부      no_relation  wikipedia   \n",
       "31510            김원성         미래통합당  per:employee_of   wikitree   \n",
       "13993            김원성         미래통합당  per:employee_of   wikitree   \n",
       "27116         더불어민주당           문재인      no_relation   wikitree   \n",
       "16145         더불어민주당           문재인      no_relation   wikitree   \n",
       "\n",
       "       subject_start_idx  subject_end_idx subject_type  object_start_idx  \\\n",
       "22090                 25               33          ORG                36   \n",
       "9618                  25               33          ORG                36   \n",
       "25368                  9               13          ORG                23   \n",
       "2500                   9               13          ORG                23   \n",
       "3547                  14               18          ORG                29   \n",
       "255                   14               18          ORG                29   \n",
       "31510                 28               30          PER                22   \n",
       "13993                 28               30          PER                22   \n",
       "27116                 40               45          ORG                 1   \n",
       "16145                 40               45          ORG                 1   \n",
       "\n",
       "       object_end_idx object_type  \n",
       "22090              38         POH  \n",
       "9618               38         POH  \n",
       "25368              25         ORG  \n",
       "2500               25         ORG  \n",
       "3547               33         ORG  \n",
       "255                33         ORG  \n",
       "31510              26         ORG  \n",
       "13993              26         ORG  \n",
       "27116               3         PER  \n",
       "16145               3         PER  "
      ]
     },
     "execution_count": 53,
     "metadata": {},
     "output_type": "execute_result"
    }
   ],
   "source": [
    "train_df[train_df.duplicated(['sentence', 'subject_entity', 'object_entity', 'label'], keep=False)].sort_values(by='sentence').head(10)"
   ]
  },
  {
   "cell_type": "code",
   "execution_count": null,
   "metadata": {},
   "outputs": [
    {
     "data": {
      "text/plain": [
       "84"
      ]
     },
     "execution_count": 54,
     "metadata": {},
     "output_type": "execute_result"
    }
   ],
   "source": [
    "len(train_df[train_df.duplicated(train_df.columns[1:], keep=False)])"
   ]
  },
  {
   "attachments": {},
   "cell_type": "markdown",
   "metadata": {},
   "source": [
    "## 5.1 sentence, subject_entity, object_entity, label이 모두 똑같은 데이터 수 확인"
   ]
  },
  {
   "cell_type": "code",
   "execution_count": null,
   "metadata": {},
   "outputs": [
    {
     "data": {
      "text/plain": [
       "92"
      ]
     },
     "execution_count": 55,
     "metadata": {},
     "output_type": "execute_result"
    }
   ],
   "source": [
    "len(train_df[train_df.duplicated(['sentence', 'subject_entity', 'object_entity', 'label'], keep=False)])"
   ]
  },
  {
   "cell_type": "code",
   "execution_count": null,
   "metadata": {},
   "outputs": [
    {
     "data": {
      "text/plain": [
       "({858, 3294, 6352, 6674, 7080, 20838, 25673, 27755}, 8)"
      ]
     },
     "execution_count": 56,
     "metadata": {},
     "output_type": "execute_result"
    }
   ],
   "source": [
    "one_idx = train_df[train_df.duplicated(['sentence', 'subject_entity', 'object_entity', 'label'], keep=False)].index\n",
    "two_idx = train_df[train_df.duplicated(train_df.columns[1:], keep=False)].index\n",
    "\n",
    "idx = set(one_idx).difference(set(two_idx))\n",
    "\n",
    "idx, len(idx)"
   ]
  },
  {
   "cell_type": "code",
   "execution_count": null,
   "metadata": {},
   "outputs": [
    {
     "data": {
      "text/html": [
       "<div>\n",
       "<style scoped>\n",
       "    .dataframe tbody tr th:only-of-type {\n",
       "        vertical-align: middle;\n",
       "    }\n",
       "\n",
       "    .dataframe tbody tr th {\n",
       "        vertical-align: top;\n",
       "    }\n",
       "\n",
       "    .dataframe thead th {\n",
       "        text-align: right;\n",
       "    }\n",
       "</style>\n",
       "<table border=\"1\" class=\"dataframe\">\n",
       "  <thead>\n",
       "    <tr style=\"text-align: right;\">\n",
       "      <th></th>\n",
       "      <th>id</th>\n",
       "      <th>sentence</th>\n",
       "      <th>subject_entity</th>\n",
       "      <th>object_entity</th>\n",
       "      <th>label</th>\n",
       "      <th>source</th>\n",
       "      <th>subject_start_idx</th>\n",
       "      <th>subject_end_idx</th>\n",
       "      <th>subject_type</th>\n",
       "      <th>object_start_idx</th>\n",
       "      <th>object_end_idx</th>\n",
       "      <th>object_type</th>\n",
       "    </tr>\n",
       "  </thead>\n",
       "  <tbody>\n",
       "    <tr>\n",
       "      <th>27755</th>\n",
       "      <td>27755</td>\n",
       "      <td>김성수가 경북 경주를 다녀간 지 1년 후 1919년 10월 경성방직이 설립되었고, ...</td>\n",
       "      <td>경성방직</td>\n",
       "      <td>김성수</td>\n",
       "      <td>no_relation</td>\n",
       "      <td>wikipedia</td>\n",
       "      <td>33</td>\n",
       "      <td>36</td>\n",
       "      <td>ORG</td>\n",
       "      <td>0</td>\n",
       "      <td>2</td>\n",
       "      <td>PER</td>\n",
       "    </tr>\n",
       "    <tr>\n",
       "      <th>6352</th>\n",
       "      <td>6352</td>\n",
       "      <td>김성수가 경북 경주를 다녀간 지 1년 후 1919년 10월 경성방직이 설립되었고, ...</td>\n",
       "      <td>경성방직</td>\n",
       "      <td>김성수</td>\n",
       "      <td>no_relation</td>\n",
       "      <td>wikipedia</td>\n",
       "      <td>50</td>\n",
       "      <td>53</td>\n",
       "      <td>ORG</td>\n",
       "      <td>0</td>\n",
       "      <td>2</td>\n",
       "      <td>PER</td>\n",
       "    </tr>\n",
       "    <tr>\n",
       "      <th>20838</th>\n",
       "      <td>20838</td>\n",
       "      <td>박시종 예비후보는 전남 화순 출신으로 ▲서울대학교 삼민투위원장 ▲김대중 대통령 후보...</td>\n",
       "      <td>더불어민주당</td>\n",
       "      <td>문재인</td>\n",
       "      <td>org:top_members/employees</td>\n",
       "      <td>wikitree</td>\n",
       "      <td>67</td>\n",
       "      <td>72</td>\n",
       "      <td>ORG</td>\n",
       "      <td>58</td>\n",
       "      <td>60</td>\n",
       "      <td>PER</td>\n",
       "    </tr>\n",
       "    <tr>\n",
       "      <th>3294</th>\n",
       "      <td>3294</td>\n",
       "      <td>박시종 예비후보는 전남 화순 출신으로 ▲서울대학교 삼민투위원장 ▲김대중 대통령 후보...</td>\n",
       "      <td>더불어민주당</td>\n",
       "      <td>문재인</td>\n",
       "      <td>org:top_members/employees</td>\n",
       "      <td>wikitree</td>\n",
       "      <td>67</td>\n",
       "      <td>72</td>\n",
       "      <td>ORG</td>\n",
       "      <td>95</td>\n",
       "      <td>97</td>\n",
       "      <td>PER</td>\n",
       "    </tr>\n",
       "    <tr>\n",
       "      <th>7080</th>\n",
       "      <td>7080</td>\n",
       "      <td>박춘석 등 5인은 조선민주주의인민공화국을 수립한다는 미명하에 이영으로부터 좌익정당 ...</td>\n",
       "      <td>장택상</td>\n",
       "      <td>이승만</td>\n",
       "      <td>no_relation</td>\n",
       "      <td>wikipedia</td>\n",
       "      <td>140</td>\n",
       "      <td>142</td>\n",
       "      <td>PER</td>\n",
       "      <td>174</td>\n",
       "      <td>176</td>\n",
       "      <td>PER</td>\n",
       "    </tr>\n",
       "    <tr>\n",
       "      <th>6674</th>\n",
       "      <td>6674</td>\n",
       "      <td>박춘석 등 5인은 조선민주주의인민공화국을 수립한다는 미명하에 이영으로부터 좌익정당 ...</td>\n",
       "      <td>장택상</td>\n",
       "      <td>이승만</td>\n",
       "      <td>no_relation</td>\n",
       "      <td>wikipedia</td>\n",
       "      <td>140</td>\n",
       "      <td>142</td>\n",
       "      <td>PER</td>\n",
       "      <td>50</td>\n",
       "      <td>52</td>\n",
       "      <td>PER</td>\n",
       "    </tr>\n",
       "    <tr>\n",
       "      <th>25673</th>\n",
       "      <td>25673</td>\n",
       "      <td>한편 조오섭 예비후보는 담양 출생으로 동신고, 전남대 신방과 졸업하고 △6·7대 광...</td>\n",
       "      <td>문재인</td>\n",
       "      <td>더불어민주당</td>\n",
       "      <td>per:employee_of</td>\n",
       "      <td>wikitree</td>\n",
       "      <td>122</td>\n",
       "      <td>124</td>\n",
       "      <td>PER</td>\n",
       "      <td>102</td>\n",
       "      <td>107</td>\n",
       "      <td>ORG</td>\n",
       "    </tr>\n",
       "    <tr>\n",
       "      <th>858</th>\n",
       "      <td>858</td>\n",
       "      <td>한편 조오섭 예비후보는 담양 출생으로 동신고, 전남대 신방과 졸업하고 △6·7대 광...</td>\n",
       "      <td>문재인</td>\n",
       "      <td>더불어민주당</td>\n",
       "      <td>per:employee_of</td>\n",
       "      <td>wikitree</td>\n",
       "      <td>80</td>\n",
       "      <td>82</td>\n",
       "      <td>PER</td>\n",
       "      <td>174</td>\n",
       "      <td>179</td>\n",
       "      <td>ORG</td>\n",
       "    </tr>\n",
       "  </tbody>\n",
       "</table>\n",
       "</div>"
      ],
      "text/plain": [
       "          id                                           sentence  \\\n",
       "27755  27755  김성수가 경북 경주를 다녀간 지 1년 후 1919년 10월 경성방직이 설립되었고, ...   \n",
       "6352    6352  김성수가 경북 경주를 다녀간 지 1년 후 1919년 10월 경성방직이 설립되었고, ...   \n",
       "20838  20838  박시종 예비후보는 전남 화순 출신으로 ▲서울대학교 삼민투위원장 ▲김대중 대통령 후보...   \n",
       "3294    3294  박시종 예비후보는 전남 화순 출신으로 ▲서울대학교 삼민투위원장 ▲김대중 대통령 후보...   \n",
       "7080    7080  박춘석 등 5인은 조선민주주의인민공화국을 수립한다는 미명하에 이영으로부터 좌익정당 ...   \n",
       "6674    6674  박춘석 등 5인은 조선민주주의인민공화국을 수립한다는 미명하에 이영으로부터 좌익정당 ...   \n",
       "25673  25673  한편 조오섭 예비후보는 담양 출생으로 동신고, 전남대 신방과 졸업하고 △6·7대 광...   \n",
       "858      858  한편 조오섭 예비후보는 담양 출생으로 동신고, 전남대 신방과 졸업하고 △6·7대 광...   \n",
       "\n",
       "      subject_entity object_entity                      label     source  \\\n",
       "27755           경성방직           김성수                no_relation  wikipedia   \n",
       "6352            경성방직           김성수                no_relation  wikipedia   \n",
       "20838         더불어민주당           문재인  org:top_members/employees   wikitree   \n",
       "3294          더불어민주당           문재인  org:top_members/employees   wikitree   \n",
       "7080             장택상           이승만                no_relation  wikipedia   \n",
       "6674             장택상           이승만                no_relation  wikipedia   \n",
       "25673            문재인        더불어민주당            per:employee_of   wikitree   \n",
       "858              문재인        더불어민주당            per:employee_of   wikitree   \n",
       "\n",
       "       subject_start_idx  subject_end_idx subject_type  object_start_idx  \\\n",
       "27755                 33               36          ORG                 0   \n",
       "6352                  50               53          ORG                 0   \n",
       "20838                 67               72          ORG                58   \n",
       "3294                  67               72          ORG                95   \n",
       "7080                 140              142          PER               174   \n",
       "6674                 140              142          PER                50   \n",
       "25673                122              124          PER               102   \n",
       "858                   80               82          PER               174   \n",
       "\n",
       "       object_end_idx object_type  \n",
       "27755               2         PER  \n",
       "6352                2         PER  \n",
       "20838              60         PER  \n",
       "3294               97         PER  \n",
       "7080              176         PER  \n",
       "6674               52         PER  \n",
       "25673             107         ORG  \n",
       "858               179         ORG  "
      ]
     },
     "execution_count": 58,
     "metadata": {},
     "output_type": "execute_result"
    }
   ],
   "source": [
    "train_df.loc[idx].sort_values(by='sentence')"
   ]
  },
  {
   "cell_type": "code",
   "execution_count": null,
   "metadata": {},
   "outputs": [
    {
     "data": {
      "text/plain": [
       "46"
      ]
     },
     "execution_count": 28,
     "metadata": {},
     "output_type": "execute_result"
    }
   ],
   "source": [
    "len(train_df[train_df.duplicated(['sentence', 'subject_entity', 'object_entity', 'label'], keep='first')])"
   ]
  },
  {
   "attachments": {},
   "cell_type": "markdown",
   "metadata": {},
   "source": [
    "## 5.2 sentence, subject_entity, object_entity만 똑같은 데이터 수 확인"
   ]
  },
  {
   "cell_type": "code",
   "execution_count": null,
   "metadata": {},
   "outputs": [
    {
     "data": {
      "text/plain": [
       "7"
      ]
     },
     "execution_count": 29,
     "metadata": {},
     "output_type": "execute_result"
    }
   ],
   "source": [
    "len(train_df[train_df.duplicated(['sentence', 'subject_entity', 'object_entity'], keep='first')]) - 46"
   ]
  },
  {
   "cell_type": "code",
   "execution_count": null,
   "metadata": {},
   "outputs": [
    {
     "name": "stdout",
     "output_type": "stream",
     "text": [
      "========== 13496 ==========\n",
      "2015년 11월 조현아 전 대한항공 부사장, 조원태 대한항공 부사장, 조현민 대한항공 전무 등 조양호 회장의 세 자녀가 보유하던 싸이버스카이 지분을 대한항공에 모두 팔았다.\n",
      "대한항공 조양호 org:top_members/employees\n",
      "========== 18458 ==========\n",
      "2015년 11월 조현아 전 대한항공 부사장, 조원태 대한항공 부사장, 조현민 대한항공 전무 등 조양호 회장의 세 자녀가 보유하던 싸이버스카이 지분을 대한항공에 모두 팔았다.\n",
      "대한항공 조양호 no_relation\n",
      "========== 6749 ==========\n",
      "대한항공은 5일 조양호 회장의 3자녀가 보유한 싸이버스카이 주식 9만9900주 전량을 63억 원에 취득한다고 밝혔다.\n",
      "대한항공 조양호 no_relation\n",
      "========== 12829 ==========\n",
      "대한항공은 5일 조양호 회장의 3자녀가 보유한 싸이버스카이 주식 9만9900주 전량을 63억 원에 취득한다고 밝혔다.\n",
      "대한항공 조양호 org:top_members/employees\n",
      "========== 8364 ==========\n",
      "배우 김병철 씨가 연기하는 정복동은 천리마마트를 망하게 하기 위해 여러 계획을 세우지만 반대로 하는 일마다 대박을 치는 캐릭터이다.\n",
      "정복동 김병철 no_relation\n",
      "========== 32299 ==========\n",
      "배우 김병철 씨가 연기하는 정복동은 천리마마트를 망하게 하기 위해 여러 계획을 세우지만 반대로 하는 일마다 대박을 치는 캐릭터이다.\n",
      "정복동 김병철 per:alternate_names\n",
      "========== 11511 ==========\n",
      "영화 '버즈 오브 프레이'는 배트맨이 없는 고담시에서 할리퀸, 헌트리스, 블랙 카나리가 힘을 합쳐 한 소녀를 구한다는 이야기다.\n",
      "배트맨 고담시 per:place_of_residence\n",
      "========== 22258 ==========\n",
      "영화 '버즈 오브 프레이'는 배트맨이 없는 고담시에서 할리퀸, 헌트리스, 블랙 카나리가 힘을 합쳐 한 소녀를 구한다는 이야기다.\n",
      "배트맨 고담시 no_relation\n",
      "========== 3296 ==========\n",
      "이날 프로그램 공개에서는 전북영산작법보존회와 김명신‧정상희의 사제동행 판소리, 관악 명인 대금 원장현, 색소폰 강태환의 무대를 선보이며 올해 축제에 대한 기대감을 한껏 끌어 올렸다.\n",
      "강태환 색소폰 per:title\n",
      "========== 10320 ==========\n",
      "이용빈 후보는 전)문재인 대통령후보 국민주권광주선대위 공동선대위원장, 전)20대 국회의원선거 더불어민주당 광산구갑 국회의원 후보, 전 더불어민주당 정책위원회 부의장을 역임하고 광주비정규직센터 이사장, 대통령직속 국가균형발전위원회 자문위원, 더불어민주당 을지로위원회 부위원장, 더불어민주당 동북아평화협력특별위원회 위원, 광주시가정의학과 의사회 명예회장을 맡고 있다.\n",
      "문재인 더불어민주당 no_relation\n",
      "========== 32107 ==========\n",
      "이용빈 후보는 전)문재인 대통령후보 국민주권광주선대위 공동선대위원장, 전)20대 국회의원선거 더불어민주당 광산구갑 국회의원 후보, 전 더불어민주당 정책위원회 부의장을 역임하고 광주비정규직센터 이사장, 대통령직속 국가균형발전위원회 자문위원, 더불어민주당 을지로위원회 부위원장, 더불어민주당 동북아평화협력특별위원회 위원, 광주시가정의학과 의사회 명예회장을 맡고 있다.\n",
      "문재인 더불어민주당 per:employee_of\n",
      "========== 4212 ==========\n",
      "한편 전라남도는 최근 확진자가 발생한 순천시와 여수시에 마스크를 각각 2만장씩 총 4만장 지원했으며, 이날 확진자가 나온 광양시에도 현장상황을 감안해 적정 물량을 지원키로 했다.\n",
      "전라남도 여수시 org:members\n",
      "========== 25094 ==========\n",
      "한편 전라남도는 최근 확진자가 발생한 순천시와 여수시에 마스크를 각각 2만장씩 총 4만장 지원했으며, 이날 확진자가 나온 광양시에도 현장상황을 감안해 적정 물량을 지원키로 했다.\n",
      "전라남도 여수시 org:place_of_headquarters\n"
     ]
    }
   ],
   "source": [
    "case_2_df = train_df[train_df.duplicated(['sentence', 'subject_entity', 'object_entity'], keep=False)].drop(train_df[train_df.duplicated(['sentence', 'subject_entity', 'object_entity', 'label'], keep=False)].index, axis=0).sort_values(by='sentence')\n",
    "\n",
    "for idx, row in case_2_df.iterrows():\n",
    "    print('='*10, idx, '='*10)\n",
    "    print(row['sentence'])\n",
    "    print(row['subject_entity'], row['object_entity'], row['label'])"
   ]
  },
  {
   "attachments": {},
   "cell_type": "markdown",
   "metadata": {},
   "source": [
    "# 6. sentence 특징 파악하기"
   ]
  },
  {
   "attachments": {},
   "cell_type": "markdown",
   "metadata": {},
   "source": [
    "## 6.1 자음 있는지 확인"
   ]
  },
  {
   "cell_type": "code",
   "execution_count": null,
   "metadata": {},
   "outputs": [
    {
     "data": {
      "text/plain": [
       "7"
      ]
     },
     "execution_count": 31,
     "metadata": {},
     "output_type": "execute_result"
    }
   ],
   "source": [
    "train_df['sentence'].str.extract('([ㄱ-ㅎㅏ-ㅣ]+)').value_counts().sum()"
   ]
  },
  {
   "cell_type": "code",
   "execution_count": null,
   "metadata": {},
   "outputs": [
    {
     "data": {
      "text/plain": [
       "ㅠㅠ     2\n",
       "ㅅㅅㅅ    2\n",
       "ㄱ      2\n",
       "ㅁㅎㅇ    1\n",
       "dtype: int64"
      ]
     },
     "execution_count": 32,
     "metadata": {},
     "output_type": "execute_result"
    }
   ],
   "source": [
    "train_df['sentence'].str.extract('([ㄱ-ㅎㅏ-ㅣ]+)').value_counts()"
   ]
  },
  {
   "cell_type": "code",
   "execution_count": null,
   "metadata": {},
   "outputs": [
    {
     "data": {
      "text/plain": [
       "array(['일각에서는 \"유느 또 멀어지네ㅠㅠ\", \"와 진짜 바쁘겠다\", \"영어 하면 진짜 늘긴 해 영포자 궁금하긴 하다\", \"유느님은 못하는 게 뭔데...\", \"재밌긴 하겠네\", \"유재석은 시간이 48시간이야 힘들겠다. 대단해\", \"헐 방송보면서 같이 도전해봐도 되겠다\", \"유느님 점점 전설의 동물처럼 되어가...\", \"안 그래도 연말에 힘들어 보인다는 말 많았는데 유느 다크 더 내려오는 거 아니니\" 등의 말로 유재석 씨를 걱정하면서도 기대된다는 반응을 보이기도 했다.',\n",
       "       '1506년(연산군 15년) 9월 종종반정 직후 멀리 있어 반정에는 불참하였으나 다시 형조참판에 특별 제수되고, 중종의 외삼촌으로서 자신이 진성대군 시절 잠저(潛邸) 때에 보필한 ㄱ공이 있다는 중종의 지시로, 박원종, 유자광, 신준, 구수영, 김감, 정미수, 유순정, 성희안 등이 찬성하면서 공신으로 선정된다.',\n",
       "       '인천광역시교육청(교육감 도성훈)은 검정고무신 이우영 작가와 함께하는 「교가‘ㄱ’나니 」 카드 뉴스를 배포하여 눈길을 끌고 있다.',\n",
       "       \"대부분 커뮤니티 이용자들은 댓글을 통해 'ㅁㅎㅇ'이 유튜버 '뭐혜연'(정혜연·16)이라는 의견을 내놓았다.\",\n",
       "       '그는 지난해 자신의 인스타그램에 아이유의 콘서트장에서 함께한 사진을 올린 뒤 “앵콜 포함해 네 시간을 지루할 틈 없이 채우는 너란 가수 대체. ㅠㅠ 왜 이렇게 울컥하든지 흑흑 자랑스러운 이지은. 네가 오래오래 노래하면 참 좋겠다. 이젠 정말 공연이 기다려지는 가수다”란 글을 올리기도 했다.',\n",
       "       \"한편 지난 4월 시작한 '배거슨 라이브 ㅅㅅㅅ'는 배성재 캐스터가 매주 화제의 스포츠인들과 펼치는 라이브 토크쇼다.\",\n",
       "       \"SBS모바일24는 배성재가 진행하는 스포츠 토크쇼 '배거슨라이브 ㅅㅅㅅ'에 오는 27일 오후 6시 박지성 JS 재단 이사장이 출연한다고 25일 예고했다.\"],\n",
       "      dtype=object)"
      ]
     },
     "execution_count": 33,
     "metadata": {},
     "output_type": "execute_result"
    }
   ],
   "source": [
    "train_df.loc[train_df['sentence'].str.extract('([ㄱ-ㅎㅏ-ㅣ]+)').dropna().index]['sentence'].values"
   ]
  },
  {
   "attachments": {},
   "cell_type": "markdown",
   "metadata": {},
   "source": [
    "## 6.2 숫자 있는지 확인"
   ]
  },
  {
   "cell_type": "code",
   "execution_count": null,
   "metadata": {},
   "outputs": [
    {
     "data": {
      "text/plain": [
       "23952"
      ]
     },
     "execution_count": 34,
     "metadata": {},
     "output_type": "execute_result"
    }
   ],
   "source": [
    "train_df['sentence'].str.extract('([0-9]+)').value_counts().sum()"
   ]
  },
  {
   "cell_type": "code",
   "execution_count": null,
   "metadata": {},
   "outputs": [
    {
     "data": {
      "text/plain": [
       "array(['〈Something〉는 조지 해리슨이 쓰고 비틀즈가 1969년 앨범 《Abbey Road》에 담은 노래다.',\n",
       "       'K리그2에서 성적 1위를 달리고 있는 광주FC는 지난 26일 한국프로축구연맹으로부터 관중 유치 성과와 마케팅 성과를 인정받아 ‘풀 스타디움상’과 ‘플러스 스타디움상’을 수상했다.',\n",
       "       '균일가 생활용품점 (주)아성다이소(대표 박정부)는 코로나19 바이러스로 어려움을 겪고 있는 대구광역시에 행복박스를 전달했다고 10일 밝혔다.',\n",
       "       ...,\n",
       "       '한국당은 7일 오전 9시부터 오후 5시까지 진행된 원내대표 및 정책위의장 후보자 등록 마감 결과, 강석호(3선·경북 영양·영덕·봉화·울진)-이장우(재선·대전 동구), 유기준(4선·부산 서구·동구)-박성중(초선·서울 서초을), 김선동(재선·서울 도봉을)-김종석(초선·비례), 심재철(5선·경기 안양시동안구을)-김재원(3선·경북 상주·군위·의성·청송) 등 4개 조가 등록했다고 밝혔다.',\n",
       "       \"완도군(군수 신우철)이 국토교통부에서 실시한 '2019 교통문화지수 실태조사'에서 229개 기초지자체 중 최상위 등급인 A등급을 받으면서 전국에서 가장 높은 교통안전 인식 수준을 갖고 있는 것으로 나타났다.\",\n",
       "       '화순군(군수 구충곤)은 17일 동면의 이장 20여 명이 코로나 19 예방을 위해 버스 승강장, 공중화장실 등 다중이용시설과 오동리 천운아파트 주변을 소독하는 방역 봉사활동을 펼쳤다고 밝혔다.'],\n",
       "      dtype=object)"
      ]
     },
     "execution_count": 35,
     "metadata": {},
     "output_type": "execute_result"
    }
   ],
   "source": [
    "train_df.loc[train_df['sentence'].str.extract('([0-9]+)').dropna().index]['sentence'].values"
   ]
  },
  {
   "attachments": {},
   "cell_type": "markdown",
   "metadata": {},
   "source": [
    "## 6.3 한자 있는지 확인"
   ]
  },
  {
   "cell_type": "code",
   "execution_count": null,
   "metadata": {},
   "outputs": [
    {
     "data": {
      "text/plain": [
       "2313"
      ]
     },
     "execution_count": 36,
     "metadata": {},
     "output_type": "execute_result"
    }
   ],
   "source": [
    "train_df['sentence'].str.extract('([一-龥]+)').value_counts().sum()"
   ]
  },
  {
   "cell_type": "code",
   "execution_count": null,
   "metadata": {},
   "outputs": [
    {
     "data": {
      "text/plain": [
       "array(['박용오(朴容旿, 1937년 4월 29일(음력 3월 19일)(음력 3월 19일) ~ 2009년 11월 4일)는 서울에서 태어난 대한민국의 기업인으로 두산그룹 회장, KBO 총재 등을 역임했다.',\n",
       "       '김동성(金東聖, 1980년 2월 9일 ~)은 대한민국의 쇼트트랙 선수이다.',\n",
       "       '칸트는 미(美)란 숭고함이다라고 주장하였는데 그의 이러한 주장은 윌리엄 터너(Joseph Mallord William Turner)와 같은 낭만주의 화가들에게 받아들여졌다.',\n",
       "       ...,\n",
       "       '간 나오토는 총리 취임에 즈음해 당 간사장에 에다노 유키오, 내각관방장관에 센고쿠 요시토를 임명하는 등 모든 주요 직책에 비(非)오자와계 의원을 포진시켰다.',\n",
       "       '이때 만주 지역에는 크고작은 독립군이 조직되었고, 동만주지방의 홍범도가 이끄는 대한독립군, 안무(安武)가 이끄는 국민회군, 최진동(崔振東)이 지휘하는 군무도독부군은 1920년 초부터 서로 연결, 연합하여 활동하였다.',\n",
       "       '신대철(申大澈, 1967년 2월 16일 ~)은 대한민국의 음악가이다.'], dtype=object)"
      ]
     },
     "execution_count": 37,
     "metadata": {},
     "output_type": "execute_result"
    }
   ],
   "source": [
    "train_df.loc[train_df['sentence'].str.extract('([一-龥]+)').dropna().index]['sentence'].values"
   ]
  },
  {
   "attachments": {},
   "cell_type": "markdown",
   "metadata": {},
   "source": [
    "## 6.4 일본어 있는지 확인"
   ]
  },
  {
   "cell_type": "code",
   "execution_count": null,
   "metadata": {},
   "outputs": [
    {
     "data": {
      "text/plain": [
       "54"
      ]
     },
     "execution_count": 38,
     "metadata": {},
     "output_type": "execute_result"
    }
   ],
   "source": [
    "train_df['sentence'].str.extract('([ぁ-ゔァ-ヴー々〆〤]+)').value_counts().sum()"
   ]
  },
  {
   "cell_type": "code",
   "execution_count": null,
   "metadata": {},
   "outputs": [
    {
     "data": {
      "text/plain": [
       "array(['일본의 진언종은 구카이(空海くうかい홍법 대사: 774-835)가 중국 당나라의 장안으로 건너가 청룡사에서 혜과로부터 배운 밀교를 기반으로 하고 있다.',\n",
       "       '미즈하라 코요미(보통 요미(よみ)(よみ)로 불린다, 한국어 더빙판은 박재경)는 일본의 애니메이션과 만화 시리즈 《아즈망가 대왕》에 등장하는 인물이다.',\n",
       "       '《베요네타》(ベヨネッタ)는 일본의 Platinum Games와 세가가 개발한 액션 비디오 게임이다.',\n",
       "       '시라토리 닌자부로(しらとり にんざぶろう)는 아오야마 고쇼의 만화 《명탐정 코난》에 등장하는 인물이다.',\n",
       "       '그렇게 에렌과 그를 열렬히 신봉하고 추종하는 예거파 병사들, 신병들의 병단의 손아귀에서 완벽히 탈주한 직후의 난황을 그리는 《111화: 숲 속의 아이들(森の子ら)》에서는 휘하의 고참 부하들이자 현직 간부들인 미카사 아커만, 아르민 아를레르트, 장 키르슈타인, 코니 스프링거, 그리고 조사병단에 탈주하지 않고, 남아 있는 잔여 병력들을 데리고 다리우스 작클리가 사망한 병영의 한 방에서 헌병단의 단장 나일 도크와 나일 휘하의 동료들인 로그와 그 외의 헌병단원들과 일대일 구도로 대치한다.',\n",
       "       '\"호시조라 미유키\"(みゆき 한국명:김다솜)는 토에이 애니메이션 제작의 애니메이션《스마일 프리큐어!》에 등장하는 가공의 인물이다.',\n",
       "       '자회사인 주식회사 애니메이션 두(株式会社アニメーションドゥウ)는 교토 애니메이션의 제작 부서로서 설립되었다.',\n",
       "       '배우 카라타 에리카(唐田 えりか·22)와의 불륜으로 모두를 충격에 빠트린 히가시데 마사히로(東出昌大·32)가 불륜에 관한 질문에 한 답변이 화제다다.',\n",
       "       '이 조직은 일본사회당 및 그 후신인 사회민주당을 지지했지만, 민주당 결성 이후 지지축을 민주당으로 옮기는 움직임이 강해지면서 1997년 민주리버럴노조회의(民主・リベラル労組会議)로 전환되었다.',\n",
       "       '소설가 아쿠타가와 류노스케가 쓴 두 편의 단편 소설, 1915년작 〈라쇼몽〉(羅生門; Rashômon)과 1922년작 〈덤불 속〉(藪の中; In a Grove)을 원작으로 하여 구로사와 아키라와 하시모토 시노부가 공동 작업으로 영화 각본을 완성하였다.',\n",
       "       '지금까지 대상을 2번 수상하여 하마사키 아유미(浜崎あゆみ)에 이어 기타 5팀의 가수와 함께 공동 2위의 기록을 가지고 있다.',\n",
       "       '배우 카라타 에리카(唐田 えりか·22)와의 불륜으로 모두를 충격에 빠트린 히가시데 마사히로(東出昌大·32) 근황이 전해졌다.',\n",
       "       '다나카 이사지(田中伊三次, たなかいさじ, 1906년 1월 3일 ~ 1987년 4월 11일)는 일본의 정치인, 변호사, 법학 박사이다.',\n",
       "       '스즈키 소노코(すずき そのこ)는 아오야마 고쇼의 만화 《명탐정 코난》에 등장하는 인물이다.',\n",
       "       '미나즈키 카렌(かれん 한국명:최가영)은 토에이 애니메이션의 제작의 애니메이션《Yes! 프리큐어5 &Yes! 프리큐어5 GoGo!》에 등장하는 가공의 인물. 애니메이션에서 목소리를 연기한 성우는 일본판은 마에다 아이, 한국판은 이계윤.',\n",
       "       '쿠로사와 토모요 (黒沢ともよ, 1996년 4월 10일 -)는 일본의 여배우, 성우, 가수. 마우스 프로모션 소속. 사이타마현 출신.',\n",
       "       '도쿠가와 이에미쓰의 정실인 다카쓰카사 다카코 휘하의 하급 시녀인 오스에(御末)로 오메미에(お目見え) 이하의 낮은 신분이었으나 쇼군이 오오쿠에 들었을 때 목욕 시중을 담당하는 오유도노(御湯殿)에 임명된 뒤 이에미쓰의 눈에 들어 회임하였다.',\n",
       "       '코부치 켄타로（小渕健太郎,こぶち けんたろう,1977년 3월 13일 - O형）은, 미야자키현 미야자키시 출신의 뮤지션, 작사가, 작곡가이다.',\n",
       "       '간에이(寛永) 10년(1633년) 포르투갈 사람인 예수회 사제 크리스토방 페레이라가 나가사키(長崎)에서 체포되어, 이른바 구멍 매달기(穴吊り)라는 이름의 고문을 받고 사흘 뒤에 자신의 종교를 등진 최초의 선교사(바테렌)가 되었다.',\n",
       "       '서울!)라는 여행 상품을 출시하기도 했다. 이 여행 상품은 히가시무라 아키코의 여성 팬들을 대상으로 하여 성황리에 진행되었다. 이를 계기로 한국 문화를 좋아하는 일본 만화가로 알려져, 2014년에는 INFINITE F의 일본 데뷔 싱글 《恋のサイン 의 앨범 재킷을 의뢰 받아 그리기도 하였다.',\n",
       "       '이후에는 레이지의 멤버인 이노우에 슌지가 설립한 레코드 회사인 『란티스』(ランティス)로 이적(전속은 아님)했으며 2000년에 결성된 Jam Project의 리더로도 활동하고 있다.',\n",
       "       '\"카스가노 우라라\"(うらら 한국명:\"김초원\")는 토에이 애니메이션 제작의 애니메이션《Yes! 프리큐어5 & Yes! 프리큐어5 GoGo!》에 등장하는 가공의 인물. 애니메이션에서 목소리를 연기한 성우는 일본판은 이세 마리야, 한국판은 이지현.',\n",
       "       'を決めた。2019년 일본 시리즈에서 후쿠오카 소프트뱅크 호크스와 경기에서 4전 전패를 기록하면서 아쉽게 준우승을 차지했다.',\n",
       "       '이케다 노부코(池田伸子, いけだ のぶこ)은 일본의 언론인이며 NHK 소속의 여성 아나운서이다.',\n",
       "       '조소카베 모토치카(ちょうそかべ もとちか), 덴분 8년(1539년) ~ 게이초 4년(1599년 5월 19일))는 조소카베 가문의 제20대 당주이다. 도사(土佐 의 센고쿠 다이묘.',\n",
       "       '기타 오미 센고쿠 다이묘. 아자이 가문 4대 당주. 그의 부인은 오다 노부나가(織田信長)의 동생인 오이치(お市)이다.',\n",
       "       '\"루루 아무르\"(ルールー・アムール)는《허긋토! 프리큐어》에 등장하는 가공의 인물이다.',\n",
       "       '《나츠메 우인장》은 하쿠센샤의 《LaLa》와 《LaLa DX》에서 연재중인 미도리카와 유키(緑川ゆき)의 만화이다.',\n",
       "       '사사키 리카코(佐々木莉佳子, 2001년 5월 28일 ~)는 일본의 여성 아이돌 그룹 안주루무의 멤버이다.',\n",
       "       '1572년 신겐은 대규모의 상락 작전을 감행하여, 도쿠가와 이에야스를 미카타가하라 전투(三方ヶ原の戦い)에서 격파하고 오다 가문(織田氏)의 미노, 오와리를 압박했다.',\n",
       "       '야쿠시지 사아야(さあや)는《허긋토! 프리큐어》에 등장하는 가공의 인물이다.',\n",
       "       '사사키 리카코(佐々木莉佳子, 2001년 5월 28일 ~)는 일본의 여성 아이돌 그룹 안주루무의 멤버이다.',\n",
       "       '한국에서는 Mnet 《힛 더 스테이지》를 통해서 ‘さよならひとり (Sayonara Hitori)’의 한국어 번안 곡인 ‘Goodbye’로 무대를 보여주며 경연에서 1위라는 결과를 냈다.',\n",
       "       '아야세 하루카(1985년 3월 24일 ~)는 일본의 배우, 가수로 본명은 타데마루 아야(たでまる あや)이다.',\n",
       "       '리사(LiSA, リサ, 1987년 6월 24일 ~)는 일본의 여성 가수이다.',\n",
       "       '이후에는 레이지의 멤버인 이노우에 슌지가 설립한 레코드 회사인 『란티스』(ランティス)로 이적(전속은 아님)했으며 2000년에 결성된 Jam Project의 리더로도 활동하고 있다.',\n",
       "       '미쓰이 히사시(三井 寿, みつい ひさし)는 이노우에 다케히코의 만화 작품 및 그것을 원작으로 하는 애니메이션 「슬램 덩크」에 등장하는 가공의 인물. 애니메이션으로의 성우는 일본은 오키아유 료타로,한국은 이정구(비디오판 초기),박상일(비디오판 중기),박상훈(비디오판 후기),구자형(SBS판)이다.',\n",
       "       '카구야 마도카(まどか)는《스타☆트윙클 프리큐어》에 등장하는 가공의 인물이다.',\n",
       "       '최근 일본 유명 배우 히가시데 마사히로(東出昌大·31)와 카라타 에리카(唐田えりか·22) 불륜설이 제기돼 논란을 빚고 있다.',\n",
       "       '\"히노 아카네\"(あかね 한국명:홍주화)는 토에이 애니메이션 제작의 애니메이션《스마일 프리큐어!》에 등장하는 가공의 인물이다.',\n",
       "       '남사할린 침공 또는 사할린 전투(러시아어: Южно-Сахалинская операция, 일본어: 樺太の戦い)는 소련군이 일본 제국군이 점령한 가라후토 청으로 알려진 사할린 섬 남부의 일본 제국 영역을 침공한 사건이다.',\n",
       "       '나카가와 아키코 (中川亜紀子なかがわ あきこ)는 홋카이도 삿포로시 출신의 일본 여자 성우다.',\n",
       "       '아오키 가즈오(青木 一男, あおき かずお, 1889년 11월 28일 ~ 1982년 6월 25일)는 일본의 정치인으로, 1939년 8월 30일부터 1940년 1월 16일까지 아베 노부유키 총리 내각에서 대장성 대신, 1942년부터 1944년까지 대동아성 대신을 지냈다.',\n",
       "       \"지난달 30일 유튜브 채널 'Fischer's-フィッシャーズ-(이하 피셔스)'에 만화 '원피스' 작가 오다 에이치로(尾田栄一郎·44) 인터뷰 영상이 올라왔다.\",\n",
       "       '2010년 자유민주당 그림자 내각 (自由民主党シャドウ・キャビネット)의 출범에 따라 정조회장 이시바 시게루, 홍보본부장 고이케 유리코와 함께 본부장 대리가 되었으며, 이 해 9월 다나가키 총재 밑에서 자민당 간사장을 맡기도 했다.',\n",
       "       '쓰다 미나미 (津田美波つだ みなみ)또는 츠다 미나미는 가나가와현 출신의 일본 여성 성우이다.',\n",
       "       '《내 여동생은 한자를 읽을 수 있다》는 카지이 타카시(かじいたかし)의 일본 라이트 노벨 작품이다.',\n",
       "       \"(이탈리아의 마세라티사의 승용차 '기블리'(ghibli)(ghibli)는 일본에서도 1970년대에 '기브리'(ギブリ)라 불리었었다).\",\n",
       "       \"일본 제국 관동군 소속의 '마루타(まるた, (껍질만 벗긴)(껍질만 벗긴) 통나무)' 라는 암호명으로 특별계획을 실행한 731부대는 생화학 무기 개발 ·연구 과정에서 1만 명에 가까운 식민지 주민 및 전쟁 포로를 반인륜적인 생체 실험을 통해 살해하였다.\",\n",
       "       '미모리 스즈코(すずこ, 1986년 6월 28일 ~)는 일본 도쿄의 여자성우다.',\n",
       "       '최근 일본 유명 배우 히가시데 마사히로(東出昌大·31)와 카라타 에리카(唐田えりか·22) 불륜설이 제기돼 논란을 빚고 있다.',\n",
       "       '일반적으로는 가마쿠라 시대 후에 겐코의 변(元弘の変), 겐무 신정(建武の新政)도 남북조 시대에 일어난 일이라고 취급하지만, 정확히는 1336년에 아시카가 다카우지가 고묘 천황을 옹립해 북조를 수립한 뒤 무로마치 막부를 개창했고, 고다이고 천황은 요시노에 남조를 수립해 일본열도의 왕조는 둘로 분열되었다.',\n",
       "       '을미사변 당시 명성황후 살해에 적극적으로 가담했던 조선인 우범선(禹範善)과 일본인 어머니 사카이 나카(酒井ナカ) 사이에서 2남 중 장남으로 1898년 일본 도쿄에서 태어났다.',\n",
       "       '히카와 이오나(いおな 한국명:최유라)는 토에이 애니메이션 제작의 애니메이션《해피니스 차지 프리큐어!》에 등장하는 가공의 인물이다.'],\n",
       "      dtype=object)"
      ]
     },
     "execution_count": 39,
     "metadata": {},
     "output_type": "execute_result"
    }
   ],
   "source": [
    "train_df.loc[train_df['sentence'].str.extract('([ぁ-ゔァ-ヴー々〆〤]+)').dropna().index]['sentence'].values"
   ]
  },
  {
   "attachments": {},
   "cell_type": "markdown",
   "metadata": {},
   "source": [
    "## 6.5 연속된 특수 문자 찾아내기"
   ]
  },
  {
   "cell_type": "code",
   "execution_count": null,
   "metadata": {},
   "outputs": [
    {
     "data": {
      "text/plain": [
       "4326"
      ]
     },
     "execution_count": 40,
     "metadata": {},
     "output_type": "execute_result"
    }
   ],
   "source": [
    "train_df['sentence'].str.extract('([^A-Za-z0-9가-힣\\sぁ-ゔァ-ヴー々〆〤一-龥]{2,9999})').value_counts().sum()"
   ]
  },
  {
   "cell_type": "code",
   "execution_count": null,
   "metadata": {},
   "outputs": [
    {
     "data": {
      "text/plain": [
       "~)     1397\n",
       "),      776\n",
       ")(      245\n",
       ")'      124\n",
       ".\"      105\n",
       "       ... \n",
       ".》        1\n",
       ".〉,       1\n",
       ".∼        1\n",
       ".”.       1\n",
       "-)(       1\n",
       "Length: 282, dtype: int64"
      ]
     },
     "execution_count": 62,
     "metadata": {},
     "output_type": "execute_result"
    }
   ],
   "source": [
    "train_df['sentence'].str.extract('([^A-Za-z0-9가-힣\\sぁ-ゔァ-ヴー々〆〤一-龥]{2,9999})').value_counts()"
   ]
  },
  {
   "cell_type": "code",
   "execution_count": null,
   "metadata": {},
   "outputs": [
    {
     "data": {
      "text/plain": [
       "array([': 유엔, 유럽 의회, 북대서양 조약 기구 (NATO), 국제이주기구, 세계 보건 기구 (WHO), 지중해 연합, 이슬람 협력 기구, 유럽 안보 협력 기구, 국제 통화 기금, 세계무역기구 그리고 프랑코포니.',\n",
       "       '박용오(朴容旿, 1937년 4월 29일(음력 3월 19일)(음력 3월 19일) ~ 2009년 11월 4일)는 서울에서 태어난 대한민국의 기업인으로 두산그룹 회장, KBO 총재 등을 역임했다.',\n",
       "       '로버트 조지 (바비) 실(Robert George (Bobby)(Bobby) Seale, 1936년 10월 22일 ~ )은 아프리카계 미국인 인권 운동가이자, 휴이 뉴튼과 함께 흑표당의 창립자이다.',\n",
       "       ..., '신대철(申大澈, 1967년 2월 16일 ~)은 대한민국의 음악가이다.',\n",
       "       \"대학 졸업 직후, 그는 '스티어 프라이데이 나이트(Stir Friday Night)'란 아시아계 미국인들로 구성된 스케치 코미디 그룹에 들어갔다.\",\n",
       "       '한국당은 7일 오전 9시부터 오후 5시까지 진행된 원내대표 및 정책위의장 후보자 등록 마감 결과, 강석호(3선·경북 영양·영덕·봉화·울진)-이장우(재선·대전 동구), 유기준(4선·부산 서구·동구)-박성중(초선·서울 서초을), 김선동(재선·서울 도봉을)-김종석(초선·비례), 심재철(5선·경기 안양시동안구을)-김재원(3선·경북 상주·군위·의성·청송) 등 4개 조가 등록했다고 밝혔다.'],\n",
       "      dtype=object)"
      ]
     },
     "execution_count": 41,
     "metadata": {},
     "output_type": "execute_result"
    }
   ],
   "source": [
    "train_df.loc[train_df['sentence'].str.extract('([^A-Za-z0-9가-힣\\sぁ-ゔァ-ヴー々〆〤一-龥]{2,9999})').dropna().index]['sentence'].values"
   ]
  },
  {
   "attachments": {},
   "cell_type": "markdown",
   "metadata": {},
   "source": [
    "# 7. 상위 & 하위 토큰 보기"
   ]
  },
  {
   "cell_type": "code",
   "execution_count": null,
   "metadata": {},
   "outputs": [],
   "source": [
    "from collections import Counter"
   ]
  },
  {
   "cell_type": "code",
   "execution_count": null,
   "metadata": {},
   "outputs": [
    {
     "data": {
      "text/plain": [
       "201"
      ]
     },
     "execution_count": 43,
     "metadata": {},
     "output_type": "execute_result"
    }
   ],
   "source": [
    "counter = Counter(token_count)\n",
    "\n",
    "len(counter)"
   ]
  },
  {
   "attachments": {},
   "cell_type": "markdown",
   "metadata": {},
   "source": [
    "## 7.1 상위 10개"
   ]
  },
  {
   "cell_type": "code",
   "execution_count": null,
   "metadata": {},
   "outputs": [
    {
     "data": {
      "text/plain": [
       "[(48, 733),\n",
       " (50, 701),\n",
       " (47, 695),\n",
       " (46, 690),\n",
       " (49, 690),\n",
       " (45, 689),\n",
       " (44, 682),\n",
       " (51, 678),\n",
       " (42, 664),\n",
       " (43, 664),\n",
       " (54, 658),\n",
       " (55, 658),\n",
       " (52, 656),\n",
       " (53, 647),\n",
       " (40, 631),\n",
       " (41, 627),\n",
       " (58, 612),\n",
       " (56, 609),\n",
       " (57, 608),\n",
       " (39, 594),\n",
       " (60, 565),\n",
       " (37, 550),\n",
       " (38, 543),\n",
       " (59, 538),\n",
       " (63, 519),\n",
       " (61, 517),\n",
       " (35, 502),\n",
       " (62, 485),\n",
       " (36, 483),\n",
       " (64, 480)]"
      ]
     },
     "execution_count": 44,
     "metadata": {},
     "output_type": "execute_result"
    }
   ],
   "source": [
    "most_10 = counter.most_common(30)\n",
    "\n",
    "most_10"
   ]
  },
  {
   "cell_type": "code",
   "execution_count": null,
   "metadata": {},
   "outputs": [
    {
     "name": "stdout",
     "output_type": "stream",
     "text": [
      "L N K J M I H O F G R S P Q D E V T U C X A B W [ Y ? Z @ ] "
     ]
    }
   ],
   "source": [
    "for k, v in most_10:\n",
    "    print(tokenizer.decode(k), end=\" \")"
   ]
  },
  {
   "attachments": {},
   "cell_type": "markdown",
   "metadata": {},
   "source": [
    "## 7.2 하위 10개"
   ]
  },
  {
   "cell_type": "code",
   "execution_count": null,
   "metadata": {},
   "outputs": [
    {
     "data": {
      "text/plain": [
       "[(223, 1),\n",
       " (190, 1),\n",
       " (204, 1),\n",
       " (216, 1),\n",
       " (206, 1),\n",
       " (16, 1),\n",
       " (235, 1),\n",
       " (209, 1),\n",
       " (181, 1),\n",
       " (14, 1),\n",
       " (234, 1),\n",
       " (163, 1),\n",
       " (202, 1),\n",
       " (203, 1),\n",
       " (224, 2),\n",
       " (227, 2),\n",
       " (213, 2),\n",
       " (191, 2),\n",
       " (186, 2),\n",
       " (177, 2),\n",
       " (219, 2),\n",
       " (178, 2),\n",
       " (195, 2),\n",
       " (194, 2),\n",
       " (215, 2),\n",
       " (222, 3),\n",
       " (205, 3),\n",
       " (156, 3),\n",
       " (208, 3),\n",
       " (171, 3)]"
      ]
     },
     "execution_count": 46,
     "metadata": {},
     "output_type": "execute_result"
    }
   ],
   "source": [
    "least_10 = sorted(counter.items(), key=lambda x: x[1])[:30]\n",
    "\n",
    "least_10"
   ]
  },
  {
   "cell_type": "code",
   "execution_count": null,
   "metadata": {},
   "outputs": [
    {
     "name": "stdout",
     "output_type": "stream",
     "text": [
      "九 ㅈ ㎖ 上 ㎝ , 作 ㎢ ・ * 佛 ♥ ㎎ ㎏ 也 五 一 ㅋ ㅁ 】 世 〔 ㅜ ㅏ 三 之 ㎜ ○ ㎡ 》 "
     ]
    }
   ],
   "source": [
    "for k, v in least_10:\n",
    "    print(tokenizer.decode(k), end=\" \")"
   ]
  },
  {
   "attachments": {},
   "cell_type": "markdown",
   "metadata": {},
   "source": [
    "# 8. type별 시각화"
   ]
  },
  {
   "attachments": {},
   "cell_type": "markdown",
   "metadata": {},
   "source": [
    "## 8.1 subject"
   ]
  },
  {
   "cell_type": "code",
   "execution_count": null,
   "metadata": {},
   "outputs": [
    {
     "data": {
      "text/plain": [
       "PER    16786\n",
       "ORG    15684\n",
       "Name: subject_type, dtype: int64"
      ]
     },
     "execution_count": 48,
     "metadata": {},
     "output_type": "execute_result"
    }
   ],
   "source": [
    "train_df['subject_type'].value_counts()"
   ]
  },
  {
   "cell_type": "code",
   "execution_count": null,
   "metadata": {},
   "outputs": [
    {
     "data": {
      "text/plain": [
       "<Axes: xlabel='subject_type', ylabel='count'>"
      ]
     },
     "execution_count": 49,
     "metadata": {},
     "output_type": "execute_result"
    },
    {
     "data": {
      "image/png": "[encoded data removed]",
      "text/plain": [
       "<Figure size 432x288 with 1 Axes>"
      ]
     },
     "metadata": {
      "needs_background": "light"
     },
     "output_type": "display_data"
    }
   ],
   "source": [
    "sns.countplot(data=train_df, x='subject_type')"
   ]
  },
  {
   "cell_type": "code",
   "execution_count": null,
   "metadata": {},
   "outputs": [
    {
     "data": {
      "text/plain": [
       "<Axes: xlabel='label', ylabel='count'>"
      ]
     },
     "execution_count": 50,
     "metadata": {},
     "output_type": "execute_result"
    },
    {
     "data": {
      "image/png": "[encoded data removed]",
      "text/plain": [
       "<Figure size 1080x720 with 1 Axes>"
      ]
     },
     "metadata": {
      "needs_background": "light"
     },
     "output_type": "display_data"
    }
   ],
   "source": [
    "plt.figure(figsize=(15, 10))\n",
    "sns.countplot(data=train_df, x='label', hue='subject_type')"
   ]
  },
  {
   "attachments": {},
   "cell_type": "markdown",
   "metadata": {},
   "source": [
    "## 8.2 object"
   ]
  },
  {
   "cell_type": "code",
   "execution_count": null,
   "metadata": {},
   "outputs": [
    {
     "data": {
      "text/plain": [
       "<Axes: xlabel='object_type', ylabel='count'>"
      ]
     },
     "execution_count": 51,
     "metadata": {},
     "output_type": "execute_result"
    },
    {
     "data": {
      "image/png": "[encoded data removed]",
      "text/plain": [
       "<Figure size 432x288 with 1 Axes>"
      ]
     },
     "metadata": {
      "needs_background": "light"
     },
     "output_type": "display_data"
    }
   ],
   "source": [
    "sns.countplot(data=train_df, x='object_type')"
   ]
  },
  {
   "cell_type": "code",
   "execution_count": null,
   "metadata": {},
   "outputs": [
    {
     "data": {
      "text/plain": [
       "<Axes: xlabel='label', ylabel='count'>"
      ]
     },
     "execution_count": 52,
     "metadata": {},
     "output_type": "execute_result"
    },
    {
     "data": {
      "image/png": "[encoded data removed]",
      "text/plain": [
       "<Figure size 1080x720 with 1 Axes>"
      ]
     },
     "metadata": {
      "needs_background": "light"
     },
     "output_type": "display_data"
    }
   ],
   "source": [
    "plt.figure(figsize=(15, 10))\n",
    "sns.countplot(data=train_df, x='label', hue='object_type')"
   ]
  },
  {
   "cell_type": "code",
   "execution_count": null,
   "metadata": {},
   "outputs": [],
   "source": []
  }
 ],
 "metadata": {
  "kernelspec": {
   "display_name": "base",
   "language": "python",
   "name": "python3"
  },
  "language_info": {
   "codemirror_mode": {
    "name": "ipython",
    "version": 3
   },
   "file_extension": ".py",
   "mimetype": "text/x-python",
   "name": "python",
   "nbconvert_exporter": "python",
   "pygments_lexer": "ipython3",
   "version": "3.8.5"
  },
  "orig_nbformat": 4
 },
 "nbformat": 4,
 "nbformat_minor": 2
}
